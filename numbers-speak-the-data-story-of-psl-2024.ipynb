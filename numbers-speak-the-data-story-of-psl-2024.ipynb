{
 "cells": [
  {
   "cell_type": "markdown",
   "id": "02739f2b",
   "metadata": {
    "papermill": {
     "duration": 0.008764,
     "end_time": "2024-06-22T05:13:04.076851",
     "exception": false,
     "start_time": "2024-06-22T05:13:04.068087",
     "status": "completed"
    },
    "tags": []
   },
   "source": [
    "<div style=\"border-radius: 20px; border: 2px solid #64B5F6; padding: 15px; background-color: #000000; text-align: center; box-shadow: 0px 4px 8px rgba(0, 0, 0, 0.4), 0px 6px 20px rgba(0, 0, 0, 0.19); transform: perspective(1000px) rotateX(5deg) rotateY(-5deg); transition: transform 0.5s ease-in-out;\">\n",
    "    <h1 style=\"color: red; text-shadow: 2px 2px 4px rgba(0, 0, 0, 0.4); font-weight: bold; margin-bottom: 10px; font-size: 32px;\">\n",
    "        Welcome!\n",
    "    </h1>\n",
    "    <p style=\"color: #1976D2; font-size: 18px; margin: 10px 0;\">\n",
    "        Hi there! I'm Maryam Shoukat, a dedicated Data Analyst in training. I'm deeply immersed in the world of AI, exploring various concepts and techniques to enhance my skills. Join me on this exciting journey as we learn and grow together in the field of AI.\n",
    "    </p>\n",
    "    <p style=\"color: #43A047; font-size: 16px; font-style: italic; margin: 10px 0;\">\n",
    "        \"Community empowers growth through shared knowledge and mutual support.\"\n",
    "    </p>\n",
    "    <h2 style=\"color: red; margin-top: 15px; font-size: 28px;\">Contact Information</h2>\n",
    "    <table style=\"width: 100%; margin-top: 15px; border-collapse: collapse;\">\n",
    "        <tr>\n",
    "            <th style=\"color: #1976D2; font-size: 18px; padding: 8px; border-bottom: 2px solid #64B5F6;\">Name</th>\n",
    "            <th style=\"color: #1976D2; font-size: 18px; padding: 8px; border-bottom: 2px solid #64B5F6;\">Email</th>\n",
    "            <th style=\"color: #1976D2; font-size: 18px; padding: 8px; border-bottom: 2px solid #64B5F6;\">LinkedIn</th>\n",
    "            <th style=\"color: #1976D2; font-size: 18px; padding: 8px; border-bottom: 2px solid #64B5F6;\">GitHub</th>\n",
    "            <th style=\"color: #1976D2; font-size: 18px; padding: 8px; border-bottom: 2px solid #64B5F6;\">Kaggle</th>\n",
    "        </tr>\n",
    "        <tr>\n",
    "            <td style=\"font-size: 16px; padding: 8px;\">Maryam Shoukat</td>\n",
    "            <td style=\"font-size: 16px; padding: 8px;\">mustafashoukat.ai@gmail.com</td>\n",
    "            <td style=\"font-size: 16px; padding: 8px;\">\n",
    "                <a href=\"https://www.linkedin.com/in/mustafashoukat/\" target=\"_blank\">\n",
    "                    <img src=\"https://img.shields.io/badge/LinkedIn-0e76a8.svg?style=for-the-badge&logo=LinkedIn&logoColor=white\" alt=\"LinkedIn Badge\" style=\"border-radius: 5px;\">\n",
    "                </a>\n",
    "            </td>\n",
    "            <td style=\"font-size: 16px; padding: 8px;\">\n",
    "                <a href=\"https://github.com/Mustafa-Shoukat1\" target=\"_blank\">\n",
    "                    <img src=\"https://img.shields.io/badge/GitHub-171515.svg?style=for-the-badge&logo=GitHub&logoColor=white\" alt=\"GitHub Badge\" style=\"border-radius: 5px;\">\n",
    "                </a>\n",
    "            </td>\n",
    "            <td style=\"font-size: 16px; padding: 8px;\">\n",
    "                <a href=\"https://www.kaggle.com/mustafashoukat\" target=\"_blank\">\n",
    "                    <img src=\"https://img.shields.io/badge/Kaggle-20beff.svg?style=for-the-badge&logo=Kaggle&logoColor=white\" alt=\"Kaggle Badge\" style=\"border-radius: 5px; margin: 0 5px;\">\n",
    "                </a>\n",
    "            </td>\n",
    "        </tr>\n",
    "    </table>\n",
    "</div>\n"
   ]
  },
  {
   "cell_type": "markdown",
   "id": "8e1ec37d",
   "metadata": {
    "papermill": {
     "duration": 0.007998,
     "end_time": "2024-06-22T05:13:04.093256",
     "exception": false,
     "start_time": "2024-06-22T05:13:04.085258",
     "status": "completed"
    },
    "tags": []
   },
   "source": [
    "<div style=\"border-radius: 20px; border: 2px solid #64B5F6; padding: 20px; background-color: #1B5E20; color: white; text-align: center; box-shadow: 0px 4px 8px rgba(0, 0, 0, 0.4), 0px 6px 20px rgba(0, 0, 0, 0.19); transform: perspective(1000px) rotateX(5deg) rotateY(-5deg); transition: transform 0.5s ease-in-out;\">\n",
    "    <h1 style=\"color: white; text-shadow: 2px 2px 4px rgba(0, 0, 0, 0.4); font-weight: bold; margin-bottom: 20px; font-size: 32px;\">About Dataset</h1>\n",
    "    <p style=\"font-size: 18px; margin: 20px 0;\">\n",
    "        Cricket is a bat-and-ball game played between two teams of eleven players each. The game is played on a field with a rectangular 20-meter pitch at the center. Each team bats and bowls/fields in turns, attempting to score runs and limit the opponent's runs. The team with the most runs wins.\n",
    "    </p>\n",
    "    <p style=\"font-size: 16px; margin: 20px 0;\">\n",
    "        <a href=\"https://en.wikipedia.org/wiki/Cricket\" target=\"_blank\" style=\"color: #FFD600; text-decoration: none; font-weight: bold;\">Source: Wikipedia</a>\n",
    "    </p>\n",
    "    <div style=\"display: flex; justify-content: center; gap: 20px; margin: 20px 0;\">\n",
    "        <img src=\"https://wallpapercave.com/wp/wp4251162.jpg\" alt=\"Cricket Image\" style=\"border-radius: 10px; width: 100%; box-shadow: 0px 4px 8px rgba(0, 0, 0, 0.2);\">\n",
    "    </div>\n",
    "</div>\n"
   ]
  },
  {
   "cell_type": "markdown",
   "id": "3125fd16",
   "metadata": {
    "papermill": {
     "duration": 0.008041,
     "end_time": "2024-06-22T05:13:04.109635",
     "exception": false,
     "start_time": "2024-06-22T05:13:04.101594",
     "status": "completed"
    },
    "tags": []
   },
   "source": [
    "<div style=\"border-radius: 20px; border: 2px solid #64B5F6; padding: 15px; background-color: #1B5E20; color: white; text-align: center; box-shadow: 0px 4px 8px rgba(0, 0, 0, 0.4), 0px 6px 20px rgba(0, 0, 0, 0.19); transform: perspective(1000px) rotateX(5deg) rotateY(-5deg); transition: transform 0.5s ease-in-out;\">\n",
    "    <h1 style=\"color: white; text-shadow: 2px 2px 4px rgba(0, 0, 0, 0.4); font-weight: bold; margin-bottom: 10px; font-size: 32px;\">🌟🏏Introduction🌟🏏</h1>\n",
    "</div>"
   ]
  },
  {
   "cell_type": "markdown",
   "id": "e8d49e9b",
   "metadata": {
    "papermill": {
     "duration": 0.007863,
     "end_time": "2024-06-22T05:13:04.125687",
     "exception": false,
     "start_time": "2024-06-22T05:13:04.117824",
     "status": "completed"
    },
    "tags": []
   },
   "source": [
    "Exploring Cricket Performance: PSL Season 9 Analysis\n",
    "Cricket, a beloved sport globally, comes alive through data in this exploratory analysis of Pakistan Super League (PSL) Season 9. This notebook delves into the rich dataset capturing every match detail, from runs scored to wickets taken, offering insights into team performances, player contributions, and bowling prowess.\n"
   ]
  },
  {
   "cell_type": "markdown",
   "id": "69cef902",
   "metadata": {
    "papermill": {
     "duration": 0.007882,
     "end_time": "2024-06-22T05:13:04.141739",
     "exception": false,
     "start_time": "2024-06-22T05:13:04.133857",
     "status": "completed"
    },
    "tags": []
   },
   "source": [
    "Dataset Overview\n",
    "The dataset encompasses detailed match records including:\n",
    "\n",
    "Match ID, season, and start date\n",
    "Venue and innings specifics\n",
    "Batting and bowling team dynamics\n",
    "Player statistics such as runs scored and wickets taken"
   ]
  },
  {
   "cell_type": "markdown",
   "id": "dcd67c49",
   "metadata": {
    "papermill": {
     "duration": 0.007878,
     "end_time": "2024-06-22T05:13:04.157855",
     "exception": false,
     "start_time": "2024-06-22T05:13:04.149977",
     "status": "completed"
    },
    "tags": []
   },
   "source": [
    "\n",
    "\n"
   ]
  },
  {
   "cell_type": "markdown",
   "id": "e59e11dd",
   "metadata": {
    "papermill": {
     "duration": 0.007835,
     "end_time": "2024-06-22T05:13:04.174019",
     "exception": false,
     "start_time": "2024-06-22T05:13:04.166184",
     "status": "completed"
    },
    "tags": []
   },
   "source": [
    "<div style=\"border-radius: 20px; border: 2px solid #64B5F6; padding: 15px; background-color: #1B5E20; color: white; text-align: center; box-shadow: 0px 4px 8px rgba(0, 0, 0, 0.4), 0px 6px 20px rgba(0, 0, 0, 0.19); transform: perspective(1000px) rotateX(5deg) rotateY(-5deg); transition: transform 0.5s ease-in-out;\">\n",
    "    <h1 style=\"color: white; text-shadow: 2px 2px 4px rgba(0, 0, 0, 0.4); font-weight: bold; margin-bottom: 10px; font-size: 32px;\">🧹✨ Data Wrangling steps from Raw to Insightful Analysis 📊 🧼</h1>\n",
    "</div>"
   ]
  },
  {
   "cell_type": "markdown",
   "id": "ad60d89f",
   "metadata": {
    "papermill": {
     "duration": 0.007907,
     "end_time": "2024-06-22T05:13:04.190121",
     "exception": false,
     "start_time": "2024-06-22T05:13:04.182214",
     "status": "completed"
    },
    "tags": []
   },
   "source": [
    "## Data Cleaning Steps\n",
    "\n",
    "1. **Load the Dataset**: Read the dataset (`PSL_Season_09_dataset.csv`) into a Pandas DataFrame.\n",
    "\n",
    "    ```python\n",
    "    import pandas as pd\n",
    "    df = pd.read_csv('PSL_Season_09_dataset.csv')\n",
    "    ```\n",
    "\n",
    "2. **Inspect Data Structure**: Use `.shape` and `.head()` to understand the dataset's dimensions and view the initial rows to check for any formatting issues.\n",
    "\n",
    "    ```python\n",
    "    print(df.shape)\n",
    "    print(df.head())\n",
    "    ```\n",
    "\n",
    "3. **Handle Missing Values**: Identify columns with missing values using `.isnull().sum()` and decide how to handle them. Columns like `wides`, `noballs`, etc., had high missing percentages and were dropped using `.drop()`.\n",
    "\n",
    "    ```python\n",
    "    missing_values = df.isnull().sum()\n",
    "    print(missing_values)\n",
    "\n",
    "    # Dropping columns with high percentages of missing values\n",
    "    df = df.drop(columns=['wides', 'noballs'])\n",
    "    ```\n",
    "\n",
    "4. **Convert Data Types**: Convert `start_date` to datetime format using `pd.to_datetime()` to facilitate date-based analysis.\n",
    "\n",
    "    ```python\n",
    "    df['start_date'] = pd.to_datetime(df['start_date'])\n",
    "    ```\n",
    "\n",
    "5. **Data Transformation**: If necessary, transform data (e.g., aggregate statistics) to prepare it for analysis. For instance, grouping by `batting_team` to calculate total runs scored.\n",
    "\n",
    "    ```python\n",
    "    total_runs = df.groupby('batting_team')['total_runs'].sum().reset_index()\n",
    "    print(total_runs)\n",
    "    ```\n",
    "\n",
    "6. **Drop Unnecessary Columns**: Remove columns that are not needed for analysis or contain no data using `.drop()`.\n",
    "\n",
    "    ```python\n",
    "    df = df.drop(columns=['unnecessary_column1', 'unnecessary_column2'])\n",
    "    ```\n",
    "\n",
    "    This ensures that the dataset is clean and ready for analysis.\n"
   ]
  },
  {
   "cell_type": "code",
   "execution_count": 1,
   "id": "95cf538a",
   "metadata": {
    "execution": {
     "iopub.execute_input": "2024-06-22T05:13:04.208408Z",
     "iopub.status.busy": "2024-06-22T05:13:04.208020Z",
     "iopub.status.idle": "2024-06-22T05:13:06.300314Z",
     "shell.execute_reply": "2024-06-22T05:13:06.299114Z"
    },
    "papermill": {
     "duration": 2.104425,
     "end_time": "2024-06-22T05:13:06.302714",
     "exception": false,
     "start_time": "2024-06-22T05:13:04.198289",
     "status": "completed"
    },
    "tags": []
   },
   "outputs": [
    {
     "name": "stdout",
     "output_type": "stream",
     "text": [
      "/kaggle/input/psl-season-9-complete-dataset-2024/PSL_Season_09_dataset.csv\n"
     ]
    }
   ],
   "source": [
    "import pandas as pd\n",
    "import matplotlib.pyplot as plt\n",
    "import seaborn as sns\n",
    "sns.set_style(\"whitegrid\")\n",
    "import warnings\n",
    "warnings.filterwarnings(\"ignore\")\n",
    "import plotly.graph_objects as go\n",
    "import numpy as np # linear algebra\n",
    "\n",
    "# Input data files are available in the read-only \"../input/\" directory\n",
    "# For example, running this (by clicking run or pressing Shift+Enter) will list all files under the input directory\n",
    "\n",
    "import os\n",
    "for dirname, _, filenames in os.walk('/kaggle/input'):\n",
    "    for filename in filenames:\n",
    "        print(os.path.join(dirname, filename))\n",
    "\n",
    "# You can write up to 20GB to the current directory (/kaggle/working/) that gets preserved as output when you create a version using \"Save & Run All\" \n",
    "# You can also write temporary files to /kaggle/temp/, but they won't be saved outside of the current session"
   ]
  },
  {
   "cell_type": "markdown",
   "id": "7782dde7",
   "metadata": {
    "papermill": {
     "duration": 0.008817,
     "end_time": "2024-06-22T05:13:06.320581",
     "exception": false,
     "start_time": "2024-06-22T05:13:06.311764",
     "status": "completed"
    },
    "tags": []
   },
   "source": [
    "<div style=\"border-radius: 20px; border: 2px solid #64B5F6; padding: 15px; background-color: #1B5E20; color: white; text-align: center; box-shadow: 0px 4px 8px rgba(0, 0, 0, 0.4), 0px 6px 20px rgba(0, 0, 0, 0.19); transform: perspective(1000px) rotateX(5deg) rotateY(-5deg); transition: transform 0.5s ease-in-out;\">\n",
    "    <h1 style=\"color: white; text-shadow: 2px 2px 4px rgba(0, 0, 0, 0.4); font-weight: bold; margin-bottom: 10px; font-size: 32px;\"> Load the Dataset 📥</h1>\n",
    "</div>\n"
   ]
  },
  {
   "cell_type": "markdown",
   "id": "1421bcc6",
   "metadata": {
    "papermill": {
     "duration": 0.008218,
     "end_time": "2024-06-22T05:13:06.337452",
     "exception": false,
     "start_time": "2024-06-22T05:13:06.329234",
     "status": "completed"
    },
    "tags": []
   },
   "source": [
    "I load the dataset (PSL_Season_09_dataset.csv) and inspect its structure, shape, and initial rows to understand its contents."
   ]
  },
  {
   "cell_type": "markdown",
   "id": "065a9be5",
   "metadata": {
    "papermill": {
     "duration": 0.008778,
     "end_time": "2024-06-22T05:13:06.354893",
     "exception": false,
     "start_time": "2024-06-22T05:13:06.346115",
     "status": "completed"
    },
    "tags": []
   },
   "source": [
    "\n",
    "\n",
    "\n"
   ]
  },
  {
   "cell_type": "code",
   "execution_count": 2,
   "id": "0d4db155",
   "metadata": {
    "execution": {
     "iopub.execute_input": "2024-06-22T05:13:06.373483Z",
     "iopub.status.busy": "2024-06-22T05:13:06.372938Z",
     "iopub.status.idle": "2024-06-22T05:13:06.475556Z",
     "shell.execute_reply": "2024-06-22T05:13:06.474239Z"
    },
    "papermill": {
     "duration": 0.114369,
     "end_time": "2024-06-22T05:13:06.477749",
     "exception": false,
     "start_time": "2024-06-22T05:13:06.363380",
     "status": "completed"
    },
    "tags": []
   },
   "outputs": [
    {
     "name": "stdout",
     "output_type": "stream",
     "text": [
      "(7795, 22)\n"
     ]
    },
    {
     "data": {
      "text/html": [
       "<div>\n",
       "<style scoped>\n",
       "    .dataframe tbody tr th:only-of-type {\n",
       "        vertical-align: middle;\n",
       "    }\n",
       "\n",
       "    .dataframe tbody tr th {\n",
       "        vertical-align: top;\n",
       "    }\n",
       "\n",
       "    .dataframe thead th {\n",
       "        text-align: right;\n",
       "    }\n",
       "</style>\n",
       "<table border=\"1\" class=\"dataframe\">\n",
       "  <thead>\n",
       "    <tr style=\"text-align: right;\">\n",
       "      <th></th>\n",
       "      <th>match_id</th>\n",
       "      <th>season</th>\n",
       "      <th>start_date</th>\n",
       "      <th>venue</th>\n",
       "      <th>innings</th>\n",
       "      <th>ball</th>\n",
       "      <th>batting_team</th>\n",
       "      <th>bowling_team</th>\n",
       "      <th>striker</th>\n",
       "      <th>non_striker</th>\n",
       "      <th>...</th>\n",
       "      <th>extras</th>\n",
       "      <th>wides</th>\n",
       "      <th>noballs</th>\n",
       "      <th>byes</th>\n",
       "      <th>legbyes</th>\n",
       "      <th>penalty</th>\n",
       "      <th>wicket_type</th>\n",
       "      <th>player_dismissed</th>\n",
       "      <th>other_wicket_type</th>\n",
       "      <th>other_player_dismissed</th>\n",
       "    </tr>\n",
       "  </thead>\n",
       "  <tbody>\n",
       "    <tr>\n",
       "      <th>0</th>\n",
       "      <td>1416472</td>\n",
       "      <td>2023/24</td>\n",
       "      <td>2024-02-17</td>\n",
       "      <td>Gaddafi Stadium, Lahore</td>\n",
       "      <td>1</td>\n",
       "      <td>1.5</td>\n",
       "      <td>Lahore Qalandars</td>\n",
       "      <td>Islamabad United</td>\n",
       "      <td>Sahibzada Farhan</td>\n",
       "      <td>Fakhar Zaman</td>\n",
       "      <td>...</td>\n",
       "      <td>0</td>\n",
       "      <td>NaN</td>\n",
       "      <td>NaN</td>\n",
       "      <td>NaN</td>\n",
       "      <td>NaN</td>\n",
       "      <td>NaN</td>\n",
       "      <td>NaN</td>\n",
       "      <td>NaN</td>\n",
       "      <td>NaN</td>\n",
       "      <td>NaN</td>\n",
       "    </tr>\n",
       "    <tr>\n",
       "      <th>1</th>\n",
       "      <td>1416472</td>\n",
       "      <td>2023/24</td>\n",
       "      <td>2024-02-17</td>\n",
       "      <td>Gaddafi Stadium, Lahore</td>\n",
       "      <td>1</td>\n",
       "      <td>1.6</td>\n",
       "      <td>Lahore Qalandars</td>\n",
       "      <td>Islamabad United</td>\n",
       "      <td>Sahibzada Farhan</td>\n",
       "      <td>Fakhar Zaman</td>\n",
       "      <td>...</td>\n",
       "      <td>0</td>\n",
       "      <td>NaN</td>\n",
       "      <td>NaN</td>\n",
       "      <td>NaN</td>\n",
       "      <td>NaN</td>\n",
       "      <td>NaN</td>\n",
       "      <td>NaN</td>\n",
       "      <td>NaN</td>\n",
       "      <td>NaN</td>\n",
       "      <td>NaN</td>\n",
       "    </tr>\n",
       "    <tr>\n",
       "      <th>2</th>\n",
       "      <td>1416472</td>\n",
       "      <td>2023/24</td>\n",
       "      <td>2024-02-17</td>\n",
       "      <td>Gaddafi Stadium, Lahore</td>\n",
       "      <td>1</td>\n",
       "      <td>2.1</td>\n",
       "      <td>Lahore Qalandars</td>\n",
       "      <td>Islamabad United</td>\n",
       "      <td>Fakhar Zaman</td>\n",
       "      <td>Sahibzada Farhan</td>\n",
       "      <td>...</td>\n",
       "      <td>5</td>\n",
       "      <td>5.0</td>\n",
       "      <td>NaN</td>\n",
       "      <td>NaN</td>\n",
       "      <td>NaN</td>\n",
       "      <td>NaN</td>\n",
       "      <td>NaN</td>\n",
       "      <td>NaN</td>\n",
       "      <td>NaN</td>\n",
       "      <td>NaN</td>\n",
       "    </tr>\n",
       "    <tr>\n",
       "      <th>3</th>\n",
       "      <td>1416472</td>\n",
       "      <td>2023/24</td>\n",
       "      <td>2024-02-17</td>\n",
       "      <td>Gaddafi Stadium, Lahore</td>\n",
       "      <td>1</td>\n",
       "      <td>2.2</td>\n",
       "      <td>Lahore Qalandars</td>\n",
       "      <td>Islamabad United</td>\n",
       "      <td>Fakhar Zaman</td>\n",
       "      <td>Sahibzada Farhan</td>\n",
       "      <td>...</td>\n",
       "      <td>0</td>\n",
       "      <td>NaN</td>\n",
       "      <td>NaN</td>\n",
       "      <td>NaN</td>\n",
       "      <td>NaN</td>\n",
       "      <td>NaN</td>\n",
       "      <td>NaN</td>\n",
       "      <td>NaN</td>\n",
       "      <td>NaN</td>\n",
       "      <td>NaN</td>\n",
       "    </tr>\n",
       "    <tr>\n",
       "      <th>4</th>\n",
       "      <td>1416472</td>\n",
       "      <td>2023/24</td>\n",
       "      <td>2024-02-17</td>\n",
       "      <td>Gaddafi Stadium, Lahore</td>\n",
       "      <td>1</td>\n",
       "      <td>2.3</td>\n",
       "      <td>Lahore Qalandars</td>\n",
       "      <td>Islamabad United</td>\n",
       "      <td>Sahibzada Farhan</td>\n",
       "      <td>Fakhar Zaman</td>\n",
       "      <td>...</td>\n",
       "      <td>0</td>\n",
       "      <td>NaN</td>\n",
       "      <td>NaN</td>\n",
       "      <td>NaN</td>\n",
       "      <td>NaN</td>\n",
       "      <td>NaN</td>\n",
       "      <td>NaN</td>\n",
       "      <td>NaN</td>\n",
       "      <td>NaN</td>\n",
       "      <td>NaN</td>\n",
       "    </tr>\n",
       "  </tbody>\n",
       "</table>\n",
       "<p>5 rows × 22 columns</p>\n",
       "</div>"
      ],
      "text/plain": [
       "   match_id   season  start_date                    venue  innings  ball  \\\n",
       "0   1416472  2023/24  2024-02-17  Gaddafi Stadium, Lahore        1   1.5   \n",
       "1   1416472  2023/24  2024-02-17  Gaddafi Stadium, Lahore        1   1.6   \n",
       "2   1416472  2023/24  2024-02-17  Gaddafi Stadium, Lahore        1   2.1   \n",
       "3   1416472  2023/24  2024-02-17  Gaddafi Stadium, Lahore        1   2.2   \n",
       "4   1416472  2023/24  2024-02-17  Gaddafi Stadium, Lahore        1   2.3   \n",
       "\n",
       "       batting_team      bowling_team           striker       non_striker  \\\n",
       "0  Lahore Qalandars  Islamabad United  Sahibzada Farhan      Fakhar Zaman   \n",
       "1  Lahore Qalandars  Islamabad United  Sahibzada Farhan      Fakhar Zaman   \n",
       "2  Lahore Qalandars  Islamabad United      Fakhar Zaman  Sahibzada Farhan   \n",
       "3  Lahore Qalandars  Islamabad United      Fakhar Zaman  Sahibzada Farhan   \n",
       "4  Lahore Qalandars  Islamabad United  Sahibzada Farhan      Fakhar Zaman   \n",
       "\n",
       "   ... extras  wides  noballs  byes  legbyes  penalty  wicket_type  \\\n",
       "0  ...      0    NaN      NaN   NaN      NaN      NaN          NaN   \n",
       "1  ...      0    NaN      NaN   NaN      NaN      NaN          NaN   \n",
       "2  ...      5    5.0      NaN   NaN      NaN      NaN          NaN   \n",
       "3  ...      0    NaN      NaN   NaN      NaN      NaN          NaN   \n",
       "4  ...      0    NaN      NaN   NaN      NaN      NaN          NaN   \n",
       "\n",
       "   player_dismissed other_wicket_type other_player_dismissed  \n",
       "0               NaN               NaN                    NaN  \n",
       "1               NaN               NaN                    NaN  \n",
       "2               NaN               NaN                    NaN  \n",
       "3               NaN               NaN                    NaN  \n",
       "4               NaN               NaN                    NaN  \n",
       "\n",
       "[5 rows x 22 columns]"
      ]
     },
     "execution_count": 2,
     "metadata": {},
     "output_type": "execute_result"
    }
   ],
   "source": [
    "df=pd.read_csv(\"/kaggle/input/psl-season-9-complete-dataset-2024/PSL_Season_09_dataset.csv\") # Or pd.read_excel, pd.read_json, etc. depending on your dataset.\n",
    "print(df.shape)\n",
    "df.head()"
   ]
  },
  {
   "cell_type": "markdown",
   "id": "9fefcb9a",
   "metadata": {
    "papermill": {
     "duration": 0.008484,
     "end_time": "2024-06-22T05:13:06.495256",
     "exception": false,
     "start_time": "2024-06-22T05:13:06.486772",
     "status": "completed"
    },
    "tags": []
   },
   "source": [
    "<div style=\"border-radius: 20px; border: 2px solid #64B5F6; padding: 15px; background-color: #1B5E20; color: white; text-align: center; box-shadow: 0px 4px 8px rgba(0, 0, 0, 0.4), 0px 6px 20px rgba(0, 0, 0, 0.19); transform: perspective(1000px) rotateX(5deg) rotateY(-5deg); transition: transform 0.5s ease-in-out;\">\n",
    "    <h1 style=\"color: white; text-shadow: 2px 2px 4px rgba(0, 0, 0, 0.4); font-weight: bold; margin-bottom: 10px; font-size: 32px;\">🔍📊 Inspecting the Dataset</h1>\n",
    "</div>"
   ]
  },
  {
   "cell_type": "code",
   "execution_count": 3,
   "id": "f32f9e9c",
   "metadata": {
    "execution": {
     "iopub.execute_input": "2024-06-22T05:13:06.515061Z",
     "iopub.status.busy": "2024-06-22T05:13:06.514715Z",
     "iopub.status.idle": "2024-06-22T05:13:06.540810Z",
     "shell.execute_reply": "2024-06-22T05:13:06.539638Z"
    },
    "papermill": {
     "duration": 0.03928,
     "end_time": "2024-06-22T05:13:06.543555",
     "exception": false,
     "start_time": "2024-06-22T05:13:06.504275",
     "status": "completed"
    },
    "tags": []
   },
   "outputs": [
    {
     "name": "stdout",
     "output_type": "stream",
     "text": [
      "['Islamabad United' 'Lahore Qalandars' 'Peshawar Zalmi'\n",
      " 'Quetta Gladiators' 'Karachi Kings' 'Multan Sultans']\n"
     ]
    },
    {
     "data": {
      "text/html": [
       "<div>\n",
       "<style scoped>\n",
       "    .dataframe tbody tr th:only-of-type {\n",
       "        vertical-align: middle;\n",
       "    }\n",
       "\n",
       "    .dataframe tbody tr th {\n",
       "        vertical-align: top;\n",
       "    }\n",
       "\n",
       "    .dataframe thead th {\n",
       "        text-align: right;\n",
       "    }\n",
       "</style>\n",
       "<table border=\"1\" class=\"dataframe\">\n",
       "  <thead>\n",
       "    <tr style=\"text-align: right;\">\n",
       "      <th></th>\n",
       "      <th>match_id</th>\n",
       "      <th>season</th>\n",
       "      <th>start_date</th>\n",
       "      <th>venue</th>\n",
       "      <th>innings</th>\n",
       "      <th>ball</th>\n",
       "      <th>batting_team</th>\n",
       "      <th>bowling_team</th>\n",
       "      <th>striker</th>\n",
       "      <th>non_striker</th>\n",
       "      <th>...</th>\n",
       "      <th>extras</th>\n",
       "      <th>wides</th>\n",
       "      <th>noballs</th>\n",
       "      <th>byes</th>\n",
       "      <th>legbyes</th>\n",
       "      <th>penalty</th>\n",
       "      <th>wicket_type</th>\n",
       "      <th>player_dismissed</th>\n",
       "      <th>other_wicket_type</th>\n",
       "      <th>other_player_dismissed</th>\n",
       "    </tr>\n",
       "  </thead>\n",
       "  <tbody>\n",
       "    <tr>\n",
       "      <th>7790</th>\n",
       "      <td>1416505</td>\n",
       "      <td>2023/24</td>\n",
       "      <td>2024-03-18</td>\n",
       "      <td>National Stadium, Karachi</td>\n",
       "      <td>2</td>\n",
       "      <td>19.2</td>\n",
       "      <td>Islamabad United</td>\n",
       "      <td>Multan Sultans</td>\n",
       "      <td>Naseem Shah</td>\n",
       "      <td>Imad Wasim</td>\n",
       "      <td>...</td>\n",
       "      <td>0</td>\n",
       "      <td>NaN</td>\n",
       "      <td>NaN</td>\n",
       "      <td>NaN</td>\n",
       "      <td>NaN</td>\n",
       "      <td>NaN</td>\n",
       "      <td>NaN</td>\n",
       "      <td>NaN</td>\n",
       "      <td>NaN</td>\n",
       "      <td>NaN</td>\n",
       "    </tr>\n",
       "    <tr>\n",
       "      <th>7791</th>\n",
       "      <td>1416505</td>\n",
       "      <td>2023/24</td>\n",
       "      <td>2024-03-18</td>\n",
       "      <td>National Stadium, Karachi</td>\n",
       "      <td>2</td>\n",
       "      <td>19.3</td>\n",
       "      <td>Islamabad United</td>\n",
       "      <td>Multan Sultans</td>\n",
       "      <td>Naseem Shah</td>\n",
       "      <td>Imad Wasim</td>\n",
       "      <td>...</td>\n",
       "      <td>1</td>\n",
       "      <td>NaN</td>\n",
       "      <td>NaN</td>\n",
       "      <td>NaN</td>\n",
       "      <td>1.0</td>\n",
       "      <td>NaN</td>\n",
       "      <td>NaN</td>\n",
       "      <td>NaN</td>\n",
       "      <td>NaN</td>\n",
       "      <td>NaN</td>\n",
       "    </tr>\n",
       "    <tr>\n",
       "      <th>7792</th>\n",
       "      <td>1416505</td>\n",
       "      <td>2023/24</td>\n",
       "      <td>2024-03-18</td>\n",
       "      <td>National Stadium, Karachi</td>\n",
       "      <td>2</td>\n",
       "      <td>19.4</td>\n",
       "      <td>Islamabad United</td>\n",
       "      <td>Multan Sultans</td>\n",
       "      <td>Imad Wasim</td>\n",
       "      <td>Naseem Shah</td>\n",
       "      <td>...</td>\n",
       "      <td>0</td>\n",
       "      <td>NaN</td>\n",
       "      <td>NaN</td>\n",
       "      <td>NaN</td>\n",
       "      <td>NaN</td>\n",
       "      <td>NaN</td>\n",
       "      <td>NaN</td>\n",
       "      <td>NaN</td>\n",
       "      <td>NaN</td>\n",
       "      <td>NaN</td>\n",
       "    </tr>\n",
       "    <tr>\n",
       "      <th>7793</th>\n",
       "      <td>1416505</td>\n",
       "      <td>2023/24</td>\n",
       "      <td>2024-03-18</td>\n",
       "      <td>National Stadium, Karachi</td>\n",
       "      <td>2</td>\n",
       "      <td>19.5</td>\n",
       "      <td>Islamabad United</td>\n",
       "      <td>Multan Sultans</td>\n",
       "      <td>Naseem Shah</td>\n",
       "      <td>Imad Wasim</td>\n",
       "      <td>...</td>\n",
       "      <td>0</td>\n",
       "      <td>NaN</td>\n",
       "      <td>NaN</td>\n",
       "      <td>NaN</td>\n",
       "      <td>NaN</td>\n",
       "      <td>NaN</td>\n",
       "      <td>caught</td>\n",
       "      <td>Naseem Shah</td>\n",
       "      <td>NaN</td>\n",
       "      <td>NaN</td>\n",
       "    </tr>\n",
       "    <tr>\n",
       "      <th>7794</th>\n",
       "      <td>1416505</td>\n",
       "      <td>2023/24</td>\n",
       "      <td>2024-03-18</td>\n",
       "      <td>National Stadium, Karachi</td>\n",
       "      <td>2</td>\n",
       "      <td>19.6</td>\n",
       "      <td>Islamabad United</td>\n",
       "      <td>Multan Sultans</td>\n",
       "      <td>Hunain Shah</td>\n",
       "      <td>Imad Wasim</td>\n",
       "      <td>...</td>\n",
       "      <td>0</td>\n",
       "      <td>NaN</td>\n",
       "      <td>NaN</td>\n",
       "      <td>NaN</td>\n",
       "      <td>NaN</td>\n",
       "      <td>NaN</td>\n",
       "      <td>NaN</td>\n",
       "      <td>NaN</td>\n",
       "      <td>NaN</td>\n",
       "      <td>NaN</td>\n",
       "    </tr>\n",
       "  </tbody>\n",
       "</table>\n",
       "<p>5 rows × 22 columns</p>\n",
       "</div>"
      ],
      "text/plain": [
       "      match_id   season  start_date                      venue  innings  ball  \\\n",
       "7790   1416505  2023/24  2024-03-18  National Stadium, Karachi        2  19.2   \n",
       "7791   1416505  2023/24  2024-03-18  National Stadium, Karachi        2  19.3   \n",
       "7792   1416505  2023/24  2024-03-18  National Stadium, Karachi        2  19.4   \n",
       "7793   1416505  2023/24  2024-03-18  National Stadium, Karachi        2  19.5   \n",
       "7794   1416505  2023/24  2024-03-18  National Stadium, Karachi        2  19.6   \n",
       "\n",
       "          batting_team    bowling_team      striker  non_striker  ... extras  \\\n",
       "7790  Islamabad United  Multan Sultans  Naseem Shah   Imad Wasim  ...      0   \n",
       "7791  Islamabad United  Multan Sultans  Naseem Shah   Imad Wasim  ...      1   \n",
       "7792  Islamabad United  Multan Sultans   Imad Wasim  Naseem Shah  ...      0   \n",
       "7793  Islamabad United  Multan Sultans  Naseem Shah   Imad Wasim  ...      0   \n",
       "7794  Islamabad United  Multan Sultans  Hunain Shah   Imad Wasim  ...      0   \n",
       "\n",
       "      wides  noballs  byes  legbyes  penalty  wicket_type  player_dismissed  \\\n",
       "7790    NaN      NaN   NaN      NaN      NaN          NaN               NaN   \n",
       "7791    NaN      NaN   NaN      1.0      NaN          NaN               NaN   \n",
       "7792    NaN      NaN   NaN      NaN      NaN          NaN               NaN   \n",
       "7793    NaN      NaN   NaN      NaN      NaN       caught       Naseem Shah   \n",
       "7794    NaN      NaN   NaN      NaN      NaN          NaN               NaN   \n",
       "\n",
       "     other_wicket_type other_player_dismissed  \n",
       "7790               NaN                    NaN  \n",
       "7791               NaN                    NaN  \n",
       "7792               NaN                    NaN  \n",
       "7793               NaN                    NaN  \n",
       "7794               NaN                    NaN  \n",
       "\n",
       "[5 rows x 22 columns]"
      ]
     },
     "execution_count": 3,
     "metadata": {},
     "output_type": "execute_result"
    }
   ],
   "source": [
    "print(df[\"bowling_team\"].unique())\n",
    "df.tail()"
   ]
  },
  {
   "cell_type": "code",
   "execution_count": 4,
   "id": "79bf58ff",
   "metadata": {
    "execution": {
     "iopub.execute_input": "2024-06-22T05:13:06.563769Z",
     "iopub.status.busy": "2024-06-22T05:13:06.563055Z",
     "iopub.status.idle": "2024-06-22T05:13:06.585556Z",
     "shell.execute_reply": "2024-06-22T05:13:06.584548Z"
    },
    "papermill": {
     "duration": 0.035433,
     "end_time": "2024-06-22T05:13:06.588290",
     "exception": false,
     "start_time": "2024-06-22T05:13:06.552857",
     "status": "completed"
    },
    "tags": []
   },
   "outputs": [
    {
     "name": "stdout",
     "output_type": "stream",
     "text": [
      "<class 'pandas.core.frame.DataFrame'>\n",
      "RangeIndex: 7795 entries, 0 to 7794\n",
      "Data columns (total 22 columns):\n",
      " #   Column                  Non-Null Count  Dtype  \n",
      "---  ------                  --------------  -----  \n",
      " 0   match_id                7795 non-null   int64  \n",
      " 1   season                  7795 non-null   object \n",
      " 2   start_date              7795 non-null   object \n",
      " 3   venue                   7795 non-null   object \n",
      " 4   innings                 7795 non-null   int64  \n",
      " 5   ball                    7795 non-null   float64\n",
      " 6   batting_team            7795 non-null   object \n",
      " 7   bowling_team            7795 non-null   object \n",
      " 8   striker                 7795 non-null   object \n",
      " 9   non_striker             7795 non-null   object \n",
      " 10  bowler                  7795 non-null   object \n",
      " 11  runs_off_bat            7795 non-null   int64  \n",
      " 12  extras                  7795 non-null   int64  \n",
      " 13  wides                   288 non-null    float64\n",
      " 14  noballs                 23 non-null     float64\n",
      " 15  byes                    16 non-null     float64\n",
      " 16  legbyes                 136 non-null    float64\n",
      " 17  penalty                 1 non-null      float64\n",
      " 18  wicket_type             403 non-null    object \n",
      " 19  player_dismissed        403 non-null    object \n",
      " 20  other_wicket_type       0 non-null      float64\n",
      " 21  other_player_dismissed  0 non-null      float64\n",
      "dtypes: float64(8), int64(4), object(10)\n",
      "memory usage: 1.3+ MB\n"
     ]
    }
   ],
   "source": [
    "df.info()  "
   ]
  },
  {
   "cell_type": "markdown",
   "id": "f57554dd",
   "metadata": {
    "papermill": {
     "duration": 0.009087,
     "end_time": "2024-06-22T05:13:06.606914",
     "exception": false,
     "start_time": "2024-06-22T05:13:06.597827",
     "status": "completed"
    },
    "tags": []
   },
   "source": [
    "<div style=\"border-radius: 20px; border: 2px solid #64B5F6; padding: 15px; background-color: #1B5E20; color: white; text-align: center; box-shadow: 0px 4px 8px rgba(0, 0, 0, 0.4), 0px 6px 20px rgba(0, 0, 0, 0.19); transform: perspective(1000px) rotateX(5deg) rotateY(-5deg); transition: transform 0.5s ease-in-out;\">\n",
    "    <h1 style=\"color: white; text-shadow: 2px 2px 4px rgba(0, 0, 0, 0.4); font-weight: bold; margin-bottom: 10px; font-size: 32px;\">📊✨ Unveil Basic Statistical Details </h1>\n",
    "</div>"
   ]
  },
  {
   "cell_type": "code",
   "execution_count": 5,
   "id": "068b5f89",
   "metadata": {
    "execution": {
     "iopub.execute_input": "2024-06-22T05:13:06.627340Z",
     "iopub.status.busy": "2024-06-22T05:13:06.626972Z",
     "iopub.status.idle": "2024-06-22T05:13:06.673125Z",
     "shell.execute_reply": "2024-06-22T05:13:06.672104Z"
    },
    "papermill": {
     "duration": 0.059296,
     "end_time": "2024-06-22T05:13:06.675684",
     "exception": false,
     "start_time": "2024-06-22T05:13:06.616388",
     "status": "completed"
    },
    "tags": []
   },
   "outputs": [
    {
     "data": {
      "text/html": [
       "<div>\n",
       "<style scoped>\n",
       "    .dataframe tbody tr th:only-of-type {\n",
       "        vertical-align: middle;\n",
       "    }\n",
       "\n",
       "    .dataframe tbody tr th {\n",
       "        vertical-align: top;\n",
       "    }\n",
       "\n",
       "    .dataframe thead th {\n",
       "        text-align: right;\n",
       "    }\n",
       "</style>\n",
       "<table border=\"1\" class=\"dataframe\">\n",
       "  <thead>\n",
       "    <tr style=\"text-align: right;\">\n",
       "      <th></th>\n",
       "      <th>match_id</th>\n",
       "      <th>innings</th>\n",
       "      <th>ball</th>\n",
       "      <th>runs_off_bat</th>\n",
       "      <th>extras</th>\n",
       "      <th>wides</th>\n",
       "      <th>noballs</th>\n",
       "      <th>byes</th>\n",
       "      <th>legbyes</th>\n",
       "      <th>penalty</th>\n",
       "      <th>other_wicket_type</th>\n",
       "      <th>other_player_dismissed</th>\n",
       "    </tr>\n",
       "  </thead>\n",
       "  <tbody>\n",
       "    <tr>\n",
       "      <th>count</th>\n",
       "      <td>7.795000e+03</td>\n",
       "      <td>7795.000000</td>\n",
       "      <td>7795.000000</td>\n",
       "      <td>7795.000000</td>\n",
       "      <td>7795.000000</td>\n",
       "      <td>288.000000</td>\n",
       "      <td>23.0</td>\n",
       "      <td>16.000000</td>\n",
       "      <td>136.000000</td>\n",
       "      <td>1.0</td>\n",
       "      <td>0.0</td>\n",
       "      <td>0.0</td>\n",
       "    </tr>\n",
       "    <tr>\n",
       "      <th>mean</th>\n",
       "      <td>1.416488e+06</td>\n",
       "      <td>1.489416</td>\n",
       "      <td>9.695548</td>\n",
       "      <td>1.322001</td>\n",
       "      <td>0.075690</td>\n",
       "      <td>1.229167</td>\n",
       "      <td>1.0</td>\n",
       "      <td>2.250000</td>\n",
       "      <td>1.264706</td>\n",
       "      <td>5.0</td>\n",
       "      <td>NaN</td>\n",
       "      <td>NaN</td>\n",
       "    </tr>\n",
       "    <tr>\n",
       "      <th>std</th>\n",
       "      <td>1.011414e+01</td>\n",
       "      <td>0.499920</td>\n",
       "      <td>5.694842</td>\n",
       "      <td>1.650024</td>\n",
       "      <td>0.367276</td>\n",
       "      <td>0.828236</td>\n",
       "      <td>0.0</td>\n",
       "      <td>1.437591</td>\n",
       "      <td>0.800327</td>\n",
       "      <td>NaN</td>\n",
       "      <td>NaN</td>\n",
       "      <td>NaN</td>\n",
       "    </tr>\n",
       "    <tr>\n",
       "      <th>min</th>\n",
       "      <td>1.416472e+06</td>\n",
       "      <td>1.000000</td>\n",
       "      <td>0.100000</td>\n",
       "      <td>0.000000</td>\n",
       "      <td>0.000000</td>\n",
       "      <td>1.000000</td>\n",
       "      <td>1.0</td>\n",
       "      <td>1.000000</td>\n",
       "      <td>1.000000</td>\n",
       "      <td>5.0</td>\n",
       "      <td>NaN</td>\n",
       "      <td>NaN</td>\n",
       "    </tr>\n",
       "    <tr>\n",
       "      <th>25%</th>\n",
       "      <td>1.416479e+06</td>\n",
       "      <td>1.000000</td>\n",
       "      <td>4.600000</td>\n",
       "      <td>0.000000</td>\n",
       "      <td>0.000000</td>\n",
       "      <td>1.000000</td>\n",
       "      <td>1.0</td>\n",
       "      <td>1.000000</td>\n",
       "      <td>1.000000</td>\n",
       "      <td>5.0</td>\n",
       "      <td>NaN</td>\n",
       "      <td>NaN</td>\n",
       "    </tr>\n",
       "    <tr>\n",
       "      <th>50%</th>\n",
       "      <td>1.416487e+06</td>\n",
       "      <td>1.000000</td>\n",
       "      <td>9.600000</td>\n",
       "      <td>1.000000</td>\n",
       "      <td>0.000000</td>\n",
       "      <td>1.000000</td>\n",
       "      <td>1.0</td>\n",
       "      <td>1.500000</td>\n",
       "      <td>1.000000</td>\n",
       "      <td>5.0</td>\n",
       "      <td>NaN</td>\n",
       "      <td>NaN</td>\n",
       "    </tr>\n",
       "    <tr>\n",
       "      <th>75%</th>\n",
       "      <td>1.416497e+06</td>\n",
       "      <td>2.000000</td>\n",
       "      <td>14.500000</td>\n",
       "      <td>1.000000</td>\n",
       "      <td>0.000000</td>\n",
       "      <td>1.000000</td>\n",
       "      <td>1.0</td>\n",
       "      <td>4.000000</td>\n",
       "      <td>1.000000</td>\n",
       "      <td>5.0</td>\n",
       "      <td>NaN</td>\n",
       "      <td>NaN</td>\n",
       "    </tr>\n",
       "    <tr>\n",
       "      <th>max</th>\n",
       "      <td>1.416505e+06</td>\n",
       "      <td>2.000000</td>\n",
       "      <td>19.900000</td>\n",
       "      <td>6.000000</td>\n",
       "      <td>5.000000</td>\n",
       "      <td>5.000000</td>\n",
       "      <td>1.0</td>\n",
       "      <td>4.000000</td>\n",
       "      <td>4.000000</td>\n",
       "      <td>5.0</td>\n",
       "      <td>NaN</td>\n",
       "      <td>NaN</td>\n",
       "    </tr>\n",
       "  </tbody>\n",
       "</table>\n",
       "</div>"
      ],
      "text/plain": [
       "           match_id      innings         ball  runs_off_bat       extras  \\\n",
       "count  7.795000e+03  7795.000000  7795.000000   7795.000000  7795.000000   \n",
       "mean   1.416488e+06     1.489416     9.695548      1.322001     0.075690   \n",
       "std    1.011414e+01     0.499920     5.694842      1.650024     0.367276   \n",
       "min    1.416472e+06     1.000000     0.100000      0.000000     0.000000   \n",
       "25%    1.416479e+06     1.000000     4.600000      0.000000     0.000000   \n",
       "50%    1.416487e+06     1.000000     9.600000      1.000000     0.000000   \n",
       "75%    1.416497e+06     2.000000    14.500000      1.000000     0.000000   \n",
       "max    1.416505e+06     2.000000    19.900000      6.000000     5.000000   \n",
       "\n",
       "            wides  noballs       byes     legbyes  penalty  other_wicket_type  \\\n",
       "count  288.000000     23.0  16.000000  136.000000      1.0                0.0   \n",
       "mean     1.229167      1.0   2.250000    1.264706      5.0                NaN   \n",
       "std      0.828236      0.0   1.437591    0.800327      NaN                NaN   \n",
       "min      1.000000      1.0   1.000000    1.000000      5.0                NaN   \n",
       "25%      1.000000      1.0   1.000000    1.000000      5.0                NaN   \n",
       "50%      1.000000      1.0   1.500000    1.000000      5.0                NaN   \n",
       "75%      1.000000      1.0   4.000000    1.000000      5.0                NaN   \n",
       "max      5.000000      1.0   4.000000    4.000000      5.0                NaN   \n",
       "\n",
       "       other_player_dismissed  \n",
       "count                     0.0  \n",
       "mean                      NaN  \n",
       "std                       NaN  \n",
       "min                       NaN  \n",
       "25%                       NaN  \n",
       "50%                       NaN  \n",
       "75%                       NaN  \n",
       "max                       NaN  "
      ]
     },
     "execution_count": 5,
     "metadata": {},
     "output_type": "execute_result"
    }
   ],
   "source": [
    "df.describe() "
   ]
  },
  {
   "cell_type": "code",
   "execution_count": 6,
   "id": "36265718",
   "metadata": {
    "execution": {
     "iopub.execute_input": "2024-06-22T05:13:06.699715Z",
     "iopub.status.busy": "2024-06-22T05:13:06.699313Z",
     "iopub.status.idle": "2024-06-22T05:13:06.706379Z",
     "shell.execute_reply": "2024-06-22T05:13:06.705255Z"
    },
    "papermill": {
     "duration": 0.022882,
     "end_time": "2024-06-22T05:13:06.708701",
     "exception": false,
     "start_time": "2024-06-22T05:13:06.685819",
     "status": "completed"
    },
    "tags": []
   },
   "outputs": [
    {
     "data": {
      "text/plain": [
       "Index(['match_id', 'season', 'start_date', 'venue', 'innings', 'ball',\n",
       "       'batting_team', 'bowling_team', 'striker', 'non_striker', 'bowler',\n",
       "       'runs_off_bat', 'extras', 'wides', 'noballs', 'byes', 'legbyes',\n",
       "       'penalty', 'wicket_type', 'player_dismissed', 'other_wicket_type',\n",
       "       'other_player_dismissed'],\n",
       "      dtype='object')"
      ]
     },
     "execution_count": 6,
     "metadata": {},
     "output_type": "execute_result"
    }
   ],
   "source": [
    "df.columns "
   ]
  },
  {
   "cell_type": "markdown",
   "id": "238216c9",
   "metadata": {
    "papermill": {
     "duration": 0.009653,
     "end_time": "2024-06-22T05:13:06.728335",
     "exception": false,
     "start_time": "2024-06-22T05:13:06.718682",
     "status": "completed"
    },
    "tags": []
   },
   "source": [
    "<div style=\"border-radius: 20px; border: 2px solid #64B5F6; padding: 15px; background-color: #1B5E20; color: white; text-align: center; box-shadow: 0px 4px 8px rgba(0, 0, 0, 0.4), 0px 6px 20px rgba(0, 0, 0, 0.19); transform: perspective(1000px) rotateX(5deg) rotateY(-5deg); transition: transform 0.5s ease-in-out;\">\n",
    "    <h1 style=\"color: white; text-shadow: 2px 2px 4px rgba(0, 0, 0, 0.4); font-weight: bold; margin-bottom: 10px; font-size: 32px;\">🛠️✨ Tackling Missing Values</h1>\n",
    "</div>\n"
   ]
  },
  {
   "cell_type": "markdown",
   "id": "ba3e2085",
   "metadata": {
    "papermill": {
     "duration": 0.010521,
     "end_time": "2024-06-22T05:13:06.749503",
     "exception": false,
     "start_time": "2024-06-22T05:13:06.738982",
     "status": "completed"
    },
    "tags": []
   },
   "source": [
    "I handle missing values, convert data types (e.g., start_date to datetime), and drop unnecessary columns like(wides, noballs, etc.) to streamline analysis."
   ]
  },
  {
   "cell_type": "code",
   "execution_count": 7,
   "id": "5f80437e",
   "metadata": {
    "execution": {
     "iopub.execute_input": "2024-06-22T05:13:06.772027Z",
     "iopub.status.busy": "2024-06-22T05:13:06.771658Z",
     "iopub.status.idle": "2024-06-22T05:13:06.784247Z",
     "shell.execute_reply": "2024-06-22T05:13:06.783010Z"
    },
    "papermill": {
     "duration": 0.026512,
     "end_time": "2024-06-22T05:13:06.786750",
     "exception": false,
     "start_time": "2024-06-22T05:13:06.760238",
     "status": "completed"
    },
    "tags": []
   },
   "outputs": [
    {
     "data": {
      "text/plain": [
       "True"
      ]
     },
     "execution_count": 7,
     "metadata": {},
     "output_type": "execute_result"
    }
   ],
   "source": [
    "df.isnull().sum().any() "
   ]
  },
  {
   "cell_type": "code",
   "execution_count": 8,
   "id": "f394a09c",
   "metadata": {
    "execution": {
     "iopub.execute_input": "2024-06-22T05:13:06.808741Z",
     "iopub.status.busy": "2024-06-22T05:13:06.808312Z",
     "iopub.status.idle": "2024-06-22T05:13:06.821359Z",
     "shell.execute_reply": "2024-06-22T05:13:06.820215Z"
    },
    "papermill": {
     "duration": 0.026804,
     "end_time": "2024-06-22T05:13:06.823762",
     "exception": false,
     "start_time": "2024-06-22T05:13:06.796958",
     "status": "completed"
    },
    "tags": []
   },
   "outputs": [
    {
     "data": {
      "text/plain": [
       "68885"
      ]
     },
     "execution_count": 8,
     "metadata": {},
     "output_type": "execute_result"
    }
   ],
   "source": [
    "df.isnull().sum().sum()\n"
   ]
  },
  {
   "cell_type": "code",
   "execution_count": 9,
   "id": "315aae24",
   "metadata": {
    "execution": {
     "iopub.execute_input": "2024-06-22T05:13:06.846276Z",
     "iopub.status.busy": "2024-06-22T05:13:06.845343Z",
     "iopub.status.idle": "2024-06-22T05:13:06.858734Z",
     "shell.execute_reply": "2024-06-22T05:13:06.857624Z"
    },
    "papermill": {
     "duration": 0.026874,
     "end_time": "2024-06-22T05:13:06.860943",
     "exception": false,
     "start_time": "2024-06-22T05:13:06.834069",
     "status": "completed"
    },
    "tags": []
   },
   "outputs": [
    {
     "data": {
      "text/plain": [
       "match_id                    0.000000\n",
       "season                      0.000000\n",
       "start_date                  0.000000\n",
       "venue                       0.000000\n",
       "innings                     0.000000\n",
       "ball                        0.000000\n",
       "batting_team                0.000000\n",
       "bowling_team                0.000000\n",
       "striker                     0.000000\n",
       "non_striker                 0.000000\n",
       "bowler                      0.000000\n",
       "runs_off_bat                0.000000\n",
       "extras                      0.000000\n",
       "wides                      96.305324\n",
       "noballs                    99.704939\n",
       "byes                       99.794740\n",
       "legbyes                    98.255292\n",
       "penalty                    99.987171\n",
       "wicket_type                94.830019\n",
       "player_dismissed           94.830019\n",
       "other_wicket_type         100.000000\n",
       "other_player_dismissed    100.000000\n",
       "dtype: float64"
      ]
     },
     "execution_count": 9,
     "metadata": {},
     "output_type": "execute_result"
    }
   ],
   "source": [
    "df.isnull().sum()/df.shape[0]*100"
   ]
  },
  {
   "cell_type": "markdown",
   "id": "d3e7bfe6",
   "metadata": {
    "papermill": {
     "duration": 0.010106,
     "end_time": "2024-06-22T05:13:06.881495",
     "exception": false,
     "start_time": "2024-06-22T05:13:06.871389",
     "status": "completed"
    },
    "tags": []
   },
   "source": [
    "\n",
    "<div style=\"border-radius: 20px; border: 2px solid #64B5F6; padding: 15px; background-color: #1B5E20; color: white; text-align: center; box-shadow: 0px 4px 8px rgba(0, 0, 0, 0.4), 0px 6px 20px rgba(0, 0, 0, 0.19); transform: perspective(1000px) rotateX(5deg) rotateY(-5deg); transition: transform 0.5s ease-in-out;\">\n",
    "    <h1 style=\"color: white; text-shadow: 2px 2px 4px rgba(0, 0, 0, 0.4); font-weight: bold; margin-bottom: 10px; font-size: 32px;\">🗂️🚮 Columns to be Dropped</h1>\n",
    "</div>\n",
    "\n"
   ]
  },
  {
   "cell_type": "code",
   "execution_count": 10,
   "id": "f0e410a9",
   "metadata": {
    "execution": {
     "iopub.execute_input": "2024-06-22T05:13:06.904915Z",
     "iopub.status.busy": "2024-06-22T05:13:06.904548Z",
     "iopub.status.idle": "2024-06-22T05:13:06.912034Z",
     "shell.execute_reply": "2024-06-22T05:13:06.910995Z"
    },
    "papermill": {
     "duration": 0.022641,
     "end_time": "2024-06-22T05:13:06.914449",
     "exception": false,
     "start_time": "2024-06-22T05:13:06.891808",
     "status": "completed"
    },
    "tags": []
   },
   "outputs": [],
   "source": [
    "df.drop(['wides','noballs','byes','legbyes','penalty','player_dismissed',\n",
    "        'other_player_dismissed'],axis=1,inplace=True)"
   ]
  },
  {
   "cell_type": "code",
   "execution_count": 11,
   "id": "c926731a",
   "metadata": {
    "execution": {
     "iopub.execute_input": "2024-06-22T05:13:06.937946Z",
     "iopub.status.busy": "2024-06-22T05:13:06.937578Z",
     "iopub.status.idle": "2024-06-22T05:13:06.944599Z",
     "shell.execute_reply": "2024-06-22T05:13:06.943461Z"
    },
    "papermill": {
     "duration": 0.021419,
     "end_time": "2024-06-22T05:13:06.946927",
     "exception": false,
     "start_time": "2024-06-22T05:13:06.925508",
     "status": "completed"
    },
    "tags": []
   },
   "outputs": [
    {
     "data": {
      "text/plain": [
       "Index(['match_id', 'season', 'start_date', 'venue', 'innings', 'ball',\n",
       "       'batting_team', 'bowling_team', 'striker', 'non_striker', 'bowler',\n",
       "       'runs_off_bat', 'extras', 'wicket_type', 'other_wicket_type'],\n",
       "      dtype='object')"
      ]
     },
     "execution_count": 11,
     "metadata": {},
     "output_type": "execute_result"
    }
   ],
   "source": [
    "df.columns"
   ]
  },
  {
   "cell_type": "code",
   "execution_count": 12,
   "id": "01f4ea2e",
   "metadata": {
    "execution": {
     "iopub.execute_input": "2024-06-22T05:13:06.969528Z",
     "iopub.status.busy": "2024-06-22T05:13:06.969132Z",
     "iopub.status.idle": "2024-06-22T05:13:06.980135Z",
     "shell.execute_reply": "2024-06-22T05:13:06.979116Z"
    },
    "papermill": {
     "duration": 0.024682,
     "end_time": "2024-06-22T05:13:06.982273",
     "exception": false,
     "start_time": "2024-06-22T05:13:06.957591",
     "status": "completed"
    },
    "tags": []
   },
   "outputs": [
    {
     "data": {
      "text/plain": [
       "15187"
      ]
     },
     "execution_count": 12,
     "metadata": {},
     "output_type": "execute_result"
    }
   ],
   "source": [
    "df.isnull().sum().sum()"
   ]
  },
  {
   "cell_type": "code",
   "execution_count": 13,
   "id": "cdffc9c7",
   "metadata": {
    "execution": {
     "iopub.execute_input": "2024-06-22T05:13:07.005815Z",
     "iopub.status.busy": "2024-06-22T05:13:07.005454Z",
     "iopub.status.idle": "2024-06-22T05:13:07.028579Z",
     "shell.execute_reply": "2024-06-22T05:13:07.027226Z"
    },
    "papermill": {
     "duration": 0.037718,
     "end_time": "2024-06-22T05:13:07.030997",
     "exception": false,
     "start_time": "2024-06-22T05:13:06.993279",
     "status": "completed"
    },
    "tags": []
   },
   "outputs": [
    {
     "name": "stdout",
     "output_type": "stream",
     "text": [
      "<class 'pandas.core.frame.DataFrame'>\n",
      "RangeIndex: 7795 entries, 0 to 7794\n",
      "Data columns (total 15 columns):\n",
      " #   Column             Non-Null Count  Dtype         \n",
      "---  ------             --------------  -----         \n",
      " 0   match_id           7795 non-null   int64         \n",
      " 1   season             7795 non-null   object        \n",
      " 2   start_date         7795 non-null   datetime64[ns]\n",
      " 3   venue              7795 non-null   object        \n",
      " 4   innings            7795 non-null   int64         \n",
      " 5   ball               7795 non-null   float64       \n",
      " 6   batting_team       7795 non-null   object        \n",
      " 7   bowling_team       7795 non-null   object        \n",
      " 8   striker            7795 non-null   object        \n",
      " 9   non_striker        7795 non-null   object        \n",
      " 10  bowler             7795 non-null   object        \n",
      " 11  runs_off_bat       7795 non-null   int64         \n",
      " 12  extras             7795 non-null   int64         \n",
      " 13  wicket_type        403 non-null    object        \n",
      " 14  other_wicket_type  0 non-null      float64       \n",
      "dtypes: datetime64[ns](1), float64(2), int64(4), object(8)\n",
      "memory usage: 913.6+ KB\n"
     ]
    }
   ],
   "source": [
    "df['start_date'] = pd.to_datetime(df['start_date'], errors='coerce')\n",
    "df.info()"
   ]
  },
  {
   "cell_type": "markdown",
   "id": "e338b3c0",
   "metadata": {
    "papermill": {
     "duration": 0.010346,
     "end_time": "2024-06-22T05:13:07.052030",
     "exception": false,
     "start_time": "2024-06-22T05:13:07.041684",
     "status": "completed"
    },
    "tags": []
   },
   "source": [
    "\n",
    "<div style=\"border-radius: 20px; border: 2px solid #64B5F6; padding: 15px; background-color: #1B5E20; color: white; text-align: center; box-shadow: 0px 4px 8px rgba(0, 0, 0, 0.4), 0px 6px 20px rgba(0, 0, 0, 0.19); transform: perspective(1000px) rotateX(5deg) rotateY(-5deg); transition: transform 0.5s ease-in-out;\">\n",
    "    <h1 style=\"color: white; text-shadow: 2px 2px 4px rgba(0, 0, 0, 0.4); font-weight: bold; margin-bottom: 10px; font-size: 32px;\">🌟🏏👀PSL Visualizing Cricket Glory!📊🇵🇰</h1>\n",
    "</div>\n",
    "\n"
   ]
  },
  {
   "cell_type": "markdown",
   "id": "4cc3d814",
   "metadata": {
    "papermill": {
     "duration": 0.010163,
     "end_time": "2024-06-22T05:13:07.072902",
     "exception": false,
     "start_time": "2024-06-22T05:13:07.062739",
     "status": "completed"
    },
    "tags": []
   },
   "source": [
    "Exploratory Data Analysis (EDA) Steps:\n",
    "Visualize Runs Scored by Teams: Use Plotly to create interactive bar plots (go.Bar) to visualize which teams scored the most runs.\n",
    "\n",
    "Visualize Runs Scored by Batsmen: Create another Plotly horizontal bar plot (px.bar) to show the top batsmen by runs scored.\n",
    "\n",
    "Identify Top Wicket-Taking Bowlers: Filter out non-null wicket_type values to exclude 'run out', then group by bowler and count wickets using groupby() and .count(). Create a bar plot (px.bar) to visualize the top wicket-takers.\n",
    "\n",
    "Analyze Wickets Taken by Bowling Teams: Group by bowling_team and count wicket_type occurrences to determine which teams took the most wickets. Use Plotly (px.bar) to visualize this data.\n",
    "\n"
   ]
  },
  {
   "cell_type": "code",
   "execution_count": 14,
   "id": "532706f8",
   "metadata": {
    "execution": {
     "iopub.execute_input": "2024-06-22T05:13:07.095596Z",
     "iopub.status.busy": "2024-06-22T05:13:07.095195Z",
     "iopub.status.idle": "2024-06-22T05:13:08.900569Z",
     "shell.execute_reply": "2024-06-22T05:13:08.899476Z"
    },
    "papermill": {
     "duration": 1.819633,
     "end_time": "2024-06-22T05:13:08.903061",
     "exception": false,
     "start_time": "2024-06-22T05:13:07.083428",
     "status": "completed"
    },
    "tags": []
   },
   "outputs": [
    {
     "data": {
      "text/html": [
       "        <script type=\"text/javascript\">\n",
       "        window.PlotlyConfig = {MathJaxConfig: 'local'};\n",
       "        if (window.MathJax && window.MathJax.Hub && window.MathJax.Hub.Config) {window.MathJax.Hub.Config({SVG: {font: \"STIX-Web\"}});}\n",
       "        if (typeof require !== 'undefined') {\n",
       "        require.undef(\"plotly\");\n",
       "        requirejs.config({\n",
       "            paths: {\n",
       "                'plotly': ['https://cdn.plot.ly/plotly-2.27.0.min']\n",
       "            }\n",
       "        });\n",
       "        require(['plotly'], function(Plotly) {\n",
       "            window._Plotly = Plotly;\n",
       "        });\n",
       "        }\n",
       "        </script>\n",
       "        "
      ]
     },
     "metadata": {},
     "output_type": "display_data"
    },
    {
     "data": {
      "text/html": [
       "<div>                            <div id=\"0d44e1ca-2c43-47ed-afde-8bdb36014241\" class=\"plotly-graph-div\" style=\"height:600px; width:100%;\"></div>            <script type=\"text/javascript\">                require([\"plotly\"], function(Plotly) {                    window.PLOTLYENV=window.PLOTLYENV || {};                                    if (document.getElementById(\"0d44e1ca-2c43-47ed-afde-8bdb36014241\")) {                    Plotly.newPlot(                        \"0d44e1ca-2c43-47ed-afde-8bdb36014241\",                        [{\"marker\":{\"color\":\"darkgreen\"},\"orientation\":\"h\",\"text\":[2064.0,1964.0,1866.0,1504.0,1468.0,1439.0],\"textposition\":\"auto\",\"x\":[2064,1964,1866,1504,1468,1439],\"y\":[\"Multan Sultans\",\"Islamabad United\",\"Peshawar Zalmi\",\"Lahore Qalandars\",\"Karachi Kings\",\"Quetta Gladiators\"],\"type\":\"bar\"}],                        {\"template\":{\"data\":{\"barpolar\":[{\"marker\":{\"line\":{\"color\":\"white\",\"width\":0.5},\"pattern\":{\"fillmode\":\"overlay\",\"size\":10,\"solidity\":0.2}},\"type\":\"barpolar\"}],\"bar\":[{\"error_x\":{\"color\":\"#2a3f5f\"},\"error_y\":{\"color\":\"#2a3f5f\"},\"marker\":{\"line\":{\"color\":\"white\",\"width\":0.5},\"pattern\":{\"fillmode\":\"overlay\",\"size\":10,\"solidity\":0.2}},\"type\":\"bar\"}],\"carpet\":[{\"aaxis\":{\"endlinecolor\":\"#2a3f5f\",\"gridcolor\":\"#C8D4E3\",\"linecolor\":\"#C8D4E3\",\"minorgridcolor\":\"#C8D4E3\",\"startlinecolor\":\"#2a3f5f\"},\"baxis\":{\"endlinecolor\":\"#2a3f5f\",\"gridcolor\":\"#C8D4E3\",\"linecolor\":\"#C8D4E3\",\"minorgridcolor\":\"#C8D4E3\",\"startlinecolor\":\"#2a3f5f\"},\"type\":\"carpet\"}],\"choropleth\":[{\"colorbar\":{\"outlinewidth\":0,\"ticks\":\"\"},\"type\":\"choropleth\"}],\"contourcarpet\":[{\"colorbar\":{\"outlinewidth\":0,\"ticks\":\"\"},\"type\":\"contourcarpet\"}],\"contour\":[{\"colorbar\":{\"outlinewidth\":0,\"ticks\":\"\"},\"colorscale\":[[0.0,\"#0d0887\"],[0.1111111111111111,\"#46039f\"],[0.2222222222222222,\"#7201a8\"],[0.3333333333333333,\"#9c179e\"],[0.4444444444444444,\"#bd3786\"],[0.5555555555555556,\"#d8576b\"],[0.6666666666666666,\"#ed7953\"],[0.7777777777777778,\"#fb9f3a\"],[0.8888888888888888,\"#fdca26\"],[1.0,\"#f0f921\"]],\"type\":\"contour\"}],\"heatmapgl\":[{\"colorbar\":{\"outlinewidth\":0,\"ticks\":\"\"},\"colorscale\":[[0.0,\"#0d0887\"],[0.1111111111111111,\"#46039f\"],[0.2222222222222222,\"#7201a8\"],[0.3333333333333333,\"#9c179e\"],[0.4444444444444444,\"#bd3786\"],[0.5555555555555556,\"#d8576b\"],[0.6666666666666666,\"#ed7953\"],[0.7777777777777778,\"#fb9f3a\"],[0.8888888888888888,\"#fdca26\"],[1.0,\"#f0f921\"]],\"type\":\"heatmapgl\"}],\"heatmap\":[{\"colorbar\":{\"outlinewidth\":0,\"ticks\":\"\"},\"colorscale\":[[0.0,\"#0d0887\"],[0.1111111111111111,\"#46039f\"],[0.2222222222222222,\"#7201a8\"],[0.3333333333333333,\"#9c179e\"],[0.4444444444444444,\"#bd3786\"],[0.5555555555555556,\"#d8576b\"],[0.6666666666666666,\"#ed7953\"],[0.7777777777777778,\"#fb9f3a\"],[0.8888888888888888,\"#fdca26\"],[1.0,\"#f0f921\"]],\"type\":\"heatmap\"}],\"histogram2dcontour\":[{\"colorbar\":{\"outlinewidth\":0,\"ticks\":\"\"},\"colorscale\":[[0.0,\"#0d0887\"],[0.1111111111111111,\"#46039f\"],[0.2222222222222222,\"#7201a8\"],[0.3333333333333333,\"#9c179e\"],[0.4444444444444444,\"#bd3786\"],[0.5555555555555556,\"#d8576b\"],[0.6666666666666666,\"#ed7953\"],[0.7777777777777778,\"#fb9f3a\"],[0.8888888888888888,\"#fdca26\"],[1.0,\"#f0f921\"]],\"type\":\"histogram2dcontour\"}],\"histogram2d\":[{\"colorbar\":{\"outlinewidth\":0,\"ticks\":\"\"},\"colorscale\":[[0.0,\"#0d0887\"],[0.1111111111111111,\"#46039f\"],[0.2222222222222222,\"#7201a8\"],[0.3333333333333333,\"#9c179e\"],[0.4444444444444444,\"#bd3786\"],[0.5555555555555556,\"#d8576b\"],[0.6666666666666666,\"#ed7953\"],[0.7777777777777778,\"#fb9f3a\"],[0.8888888888888888,\"#fdca26\"],[1.0,\"#f0f921\"]],\"type\":\"histogram2d\"}],\"histogram\":[{\"marker\":{\"pattern\":{\"fillmode\":\"overlay\",\"size\":10,\"solidity\":0.2}},\"type\":\"histogram\"}],\"mesh3d\":[{\"colorbar\":{\"outlinewidth\":0,\"ticks\":\"\"},\"type\":\"mesh3d\"}],\"parcoords\":[{\"line\":{\"colorbar\":{\"outlinewidth\":0,\"ticks\":\"\"}},\"type\":\"parcoords\"}],\"pie\":[{\"automargin\":true,\"type\":\"pie\"}],\"scatter3d\":[{\"line\":{\"colorbar\":{\"outlinewidth\":0,\"ticks\":\"\"}},\"marker\":{\"colorbar\":{\"outlinewidth\":0,\"ticks\":\"\"}},\"type\":\"scatter3d\"}],\"scattercarpet\":[{\"marker\":{\"colorbar\":{\"outlinewidth\":0,\"ticks\":\"\"}},\"type\":\"scattercarpet\"}],\"scattergeo\":[{\"marker\":{\"colorbar\":{\"outlinewidth\":0,\"ticks\":\"\"}},\"type\":\"scattergeo\"}],\"scattergl\":[{\"marker\":{\"colorbar\":{\"outlinewidth\":0,\"ticks\":\"\"}},\"type\":\"scattergl\"}],\"scattermapbox\":[{\"marker\":{\"colorbar\":{\"outlinewidth\":0,\"ticks\":\"\"}},\"type\":\"scattermapbox\"}],\"scatterpolargl\":[{\"marker\":{\"colorbar\":{\"outlinewidth\":0,\"ticks\":\"\"}},\"type\":\"scatterpolargl\"}],\"scatterpolar\":[{\"marker\":{\"colorbar\":{\"outlinewidth\":0,\"ticks\":\"\"}},\"type\":\"scatterpolar\"}],\"scatter\":[{\"fillpattern\":{\"fillmode\":\"overlay\",\"size\":10,\"solidity\":0.2},\"type\":\"scatter\"}],\"scatterternary\":[{\"marker\":{\"colorbar\":{\"outlinewidth\":0,\"ticks\":\"\"}},\"type\":\"scatterternary\"}],\"surface\":[{\"colorbar\":{\"outlinewidth\":0,\"ticks\":\"\"},\"colorscale\":[[0.0,\"#0d0887\"],[0.1111111111111111,\"#46039f\"],[0.2222222222222222,\"#7201a8\"],[0.3333333333333333,\"#9c179e\"],[0.4444444444444444,\"#bd3786\"],[0.5555555555555556,\"#d8576b\"],[0.6666666666666666,\"#ed7953\"],[0.7777777777777778,\"#fb9f3a\"],[0.8888888888888888,\"#fdca26\"],[1.0,\"#f0f921\"]],\"type\":\"surface\"}],\"table\":[{\"cells\":{\"fill\":{\"color\":\"#EBF0F8\"},\"line\":{\"color\":\"white\"}},\"header\":{\"fill\":{\"color\":\"#C8D4E3\"},\"line\":{\"color\":\"white\"}},\"type\":\"table\"}]},\"layout\":{\"annotationdefaults\":{\"arrowcolor\":\"#2a3f5f\",\"arrowhead\":0,\"arrowwidth\":1},\"autotypenumbers\":\"strict\",\"coloraxis\":{\"colorbar\":{\"outlinewidth\":0,\"ticks\":\"\"}},\"colorscale\":{\"diverging\":[[0,\"#8e0152\"],[0.1,\"#c51b7d\"],[0.2,\"#de77ae\"],[0.3,\"#f1b6da\"],[0.4,\"#fde0ef\"],[0.5,\"#f7f7f7\"],[0.6,\"#e6f5d0\"],[0.7,\"#b8e186\"],[0.8,\"#7fbc41\"],[0.9,\"#4d9221\"],[1,\"#276419\"]],\"sequential\":[[0.0,\"#0d0887\"],[0.1111111111111111,\"#46039f\"],[0.2222222222222222,\"#7201a8\"],[0.3333333333333333,\"#9c179e\"],[0.4444444444444444,\"#bd3786\"],[0.5555555555555556,\"#d8576b\"],[0.6666666666666666,\"#ed7953\"],[0.7777777777777778,\"#fb9f3a\"],[0.8888888888888888,\"#fdca26\"],[1.0,\"#f0f921\"]],\"sequentialminus\":[[0.0,\"#0d0887\"],[0.1111111111111111,\"#46039f\"],[0.2222222222222222,\"#7201a8\"],[0.3333333333333333,\"#9c179e\"],[0.4444444444444444,\"#bd3786\"],[0.5555555555555556,\"#d8576b\"],[0.6666666666666666,\"#ed7953\"],[0.7777777777777778,\"#fb9f3a\"],[0.8888888888888888,\"#fdca26\"],[1.0,\"#f0f921\"]]},\"colorway\":[\"#636efa\",\"#EF553B\",\"#00cc96\",\"#ab63fa\",\"#FFA15A\",\"#19d3f3\",\"#FF6692\",\"#B6E880\",\"#FF97FF\",\"#FECB52\"],\"font\":{\"color\":\"#2a3f5f\"},\"geo\":{\"bgcolor\":\"white\",\"lakecolor\":\"white\",\"landcolor\":\"white\",\"showlakes\":true,\"showland\":true,\"subunitcolor\":\"#C8D4E3\"},\"hoverlabel\":{\"align\":\"left\"},\"hovermode\":\"closest\",\"mapbox\":{\"style\":\"light\"},\"paper_bgcolor\":\"white\",\"plot_bgcolor\":\"white\",\"polar\":{\"angularaxis\":{\"gridcolor\":\"#EBF0F8\",\"linecolor\":\"#EBF0F8\",\"ticks\":\"\"},\"bgcolor\":\"white\",\"radialaxis\":{\"gridcolor\":\"#EBF0F8\",\"linecolor\":\"#EBF0F8\",\"ticks\":\"\"}},\"scene\":{\"xaxis\":{\"backgroundcolor\":\"white\",\"gridcolor\":\"#DFE8F3\",\"gridwidth\":2,\"linecolor\":\"#EBF0F8\",\"showbackground\":true,\"ticks\":\"\",\"zerolinecolor\":\"#EBF0F8\"},\"yaxis\":{\"backgroundcolor\":\"white\",\"gridcolor\":\"#DFE8F3\",\"gridwidth\":2,\"linecolor\":\"#EBF0F8\",\"showbackground\":true,\"ticks\":\"\",\"zerolinecolor\":\"#EBF0F8\"},\"zaxis\":{\"backgroundcolor\":\"white\",\"gridcolor\":\"#DFE8F3\",\"gridwidth\":2,\"linecolor\":\"#EBF0F8\",\"showbackground\":true,\"ticks\":\"\",\"zerolinecolor\":\"#EBF0F8\"}},\"shapedefaults\":{\"line\":{\"color\":\"#2a3f5f\"}},\"ternary\":{\"aaxis\":{\"gridcolor\":\"#DFE8F3\",\"linecolor\":\"#A2B1C6\",\"ticks\":\"\"},\"baxis\":{\"gridcolor\":\"#DFE8F3\",\"linecolor\":\"#A2B1C6\",\"ticks\":\"\"},\"bgcolor\":\"white\",\"caxis\":{\"gridcolor\":\"#DFE8F3\",\"linecolor\":\"#A2B1C6\",\"ticks\":\"\"}},\"title\":{\"x\":0.05},\"xaxis\":{\"automargin\":true,\"gridcolor\":\"#EBF0F8\",\"linecolor\":\"#EBF0F8\",\"ticks\":\"\",\"title\":{\"standoff\":15},\"zerolinecolor\":\"#EBF0F8\",\"zerolinewidth\":2},\"yaxis\":{\"automargin\":true,\"gridcolor\":\"#EBF0F8\",\"linecolor\":\"#EBF0F8\",\"ticks\":\"\",\"title\":{\"standoff\":15},\"zerolinecolor\":\"#EBF0F8\",\"zerolinewidth\":2}}},\"title\":{\"text\":\"Top Runs Scorer\"},\"xaxis\":{\"title\":{\"text\":\"Runs off Bat\"}},\"yaxis\":{\"title\":{\"text\":\"Batting Team\"}},\"height\":600},                        {\"responsive\": true}                    ).then(function(){\n",
       "                            \n",
       "var gd = document.getElementById('0d44e1ca-2c43-47ed-afde-8bdb36014241');\n",
       "var x = new MutationObserver(function (mutations, observer) {{\n",
       "        var display = window.getComputedStyle(gd).display;\n",
       "        if (!display || display === 'none') {{\n",
       "            console.log([gd, 'removed!']);\n",
       "            Plotly.purge(gd);\n",
       "            observer.disconnect();\n",
       "        }}\n",
       "}});\n",
       "\n",
       "// Listen for the removal of the full notebook cells\n",
       "var notebookContainer = gd.closest('#notebook-container');\n",
       "if (notebookContainer) {{\n",
       "    x.observe(notebookContainer, {childList: true});\n",
       "}}\n",
       "\n",
       "// Listen for the clearing of the current output cell\n",
       "var outputEl = gd.closest('.output');\n",
       "if (outputEl) {{\n",
       "    x.observe(outputEl, {childList: true});\n",
       "}}\n",
       "\n",
       "                        })                };                });            </script>        </div>"
      ]
     },
     "metadata": {},
     "output_type": "display_data"
    }
   ],
   "source": [
    "# Calculate top runs scoring teams\n",
    "top_runs_scorer = df.groupby('batting_team')['runs_off_bat'].sum().sort_values(ascending=False).head(15).reset_index()\n",
    "\n",
    "# Create a bar plot using Plotly\n",
    "fig = go.Figure(data=go.Bar(\n",
    "    x=top_runs_scorer['runs_off_bat'],\n",
    "    y=top_runs_scorer['batting_team'],\n",
    "    orientation='h',\n",
    "    text=top_runs_scorer['runs_off_bat'],\n",
    "    textposition='auto',\n",
    "    marker_color='darkgreen'  # Set bar color to dark green\n",
    "))\n",
    "\n",
    "# Update layout\n",
    "fig.update_layout(\n",
    "    title='Top Runs Scorer',\n",
    "    xaxis=dict(title='Runs off Bat'),\n",
    "    yaxis=dict(title='Batting Team'),\n",
    "    template='plotly_white',\n",
    "    height=600,  # Adjust height as needed\n",
    ")\n",
    "\n",
    "# Show the plot\n",
    "fig.show()\n",
    "\n",
    "\n",
    "\n"
   ]
  },
  {
   "cell_type": "markdown",
   "id": "e1704bbc",
   "metadata": {
    "papermill": {
     "duration": 0.010948,
     "end_time": "2024-06-22T05:13:08.925112",
     "exception": false,
     "start_time": "2024-06-22T05:13:08.914164",
     "status": "completed"
    },
    "tags": []
   },
   "source": [
    "### **🏏📈Multan Sultans has scored the most runs from batting compared to all other teams**"
   ]
  },
  {
   "cell_type": "code",
   "execution_count": 15,
   "id": "cdf212fb",
   "metadata": {
    "execution": {
     "iopub.execute_input": "2024-06-22T05:13:08.948967Z",
     "iopub.status.busy": "2024-06-22T05:13:08.948565Z",
     "iopub.status.idle": "2024-06-22T05:13:09.689669Z",
     "shell.execute_reply": "2024-06-22T05:13:09.688304Z"
    },
    "papermill": {
     "duration": 0.755802,
     "end_time": "2024-06-22T05:13:09.692099",
     "exception": false,
     "start_time": "2024-06-22T05:13:08.936297",
     "status": "completed"
    },
    "tags": []
   },
   "outputs": [
    {
     "data": {
      "text/html": [
       "<div>                            <div id=\"c57bea85-246e-428f-bc1c-c5cdcc751e4c\" class=\"plotly-graph-div\" style=\"height:525px; width:100%;\"></div>            <script type=\"text/javascript\">                require([\"plotly\"], function(Plotly) {                    window.PLOTLYENV=window.PLOTLYENV || {};                                    if (document.getElementById(\"c57bea85-246e-428f-bc1c-c5cdcc751e4c\")) {                    Plotly.newPlot(                        \"c57bea85-246e-428f-bc1c-c5cdcc751e4c\",                        [{\"alignmentgroup\":\"True\",\"hovertemplate\":\"Runs Scored=%{x}\\u003cbr\\u003eBatsman=%{y}\\u003cextra\\u003e\\u003c\\u002fextra\\u003e\",\"legendgroup\":\"\",\"marker\":{\"color\":\"darkgreen\",\"pattern\":{\"shape\":\"\"}},\"name\":\"\",\"offsetgroup\":\"\",\"orientation\":\"h\",\"showlegend\":false,\"textposition\":\"auto\",\"x\":[6,6,6,6,6,6,6,6,6,6],\"xaxis\":\"x\",\"y\":[\"Usman Khan\",\"Agha Salman\",\"Mohammad Rizwan\",\"Saim Ayub\",\"Agha Salman\",\"J Charles\",\"J Charles\",\"Saim Ayub\",\"Mohammad Rizwan\",\"CR Brathwaite\"],\"yaxis\":\"y\",\"type\":\"bar\"}],                        {\"template\":{\"data\":{\"histogram2dcontour\":[{\"type\":\"histogram2dcontour\",\"colorbar\":{\"outlinewidth\":0,\"ticks\":\"\"},\"colorscale\":[[0.0,\"#0d0887\"],[0.1111111111111111,\"#46039f\"],[0.2222222222222222,\"#7201a8\"],[0.3333333333333333,\"#9c179e\"],[0.4444444444444444,\"#bd3786\"],[0.5555555555555556,\"#d8576b\"],[0.6666666666666666,\"#ed7953\"],[0.7777777777777778,\"#fb9f3a\"],[0.8888888888888888,\"#fdca26\"],[1.0,\"#f0f921\"]]}],\"choropleth\":[{\"type\":\"choropleth\",\"colorbar\":{\"outlinewidth\":0,\"ticks\":\"\"}}],\"histogram2d\":[{\"type\":\"histogram2d\",\"colorbar\":{\"outlinewidth\":0,\"ticks\":\"\"},\"colorscale\":[[0.0,\"#0d0887\"],[0.1111111111111111,\"#46039f\"],[0.2222222222222222,\"#7201a8\"],[0.3333333333333333,\"#9c179e\"],[0.4444444444444444,\"#bd3786\"],[0.5555555555555556,\"#d8576b\"],[0.6666666666666666,\"#ed7953\"],[0.7777777777777778,\"#fb9f3a\"],[0.8888888888888888,\"#fdca26\"],[1.0,\"#f0f921\"]]}],\"heatmap\":[{\"type\":\"heatmap\",\"colorbar\":{\"outlinewidth\":0,\"ticks\":\"\"},\"colorscale\":[[0.0,\"#0d0887\"],[0.1111111111111111,\"#46039f\"],[0.2222222222222222,\"#7201a8\"],[0.3333333333333333,\"#9c179e\"],[0.4444444444444444,\"#bd3786\"],[0.5555555555555556,\"#d8576b\"],[0.6666666666666666,\"#ed7953\"],[0.7777777777777778,\"#fb9f3a\"],[0.8888888888888888,\"#fdca26\"],[1.0,\"#f0f921\"]]}],\"heatmapgl\":[{\"type\":\"heatmapgl\",\"colorbar\":{\"outlinewidth\":0,\"ticks\":\"\"},\"colorscale\":[[0.0,\"#0d0887\"],[0.1111111111111111,\"#46039f\"],[0.2222222222222222,\"#7201a8\"],[0.3333333333333333,\"#9c179e\"],[0.4444444444444444,\"#bd3786\"],[0.5555555555555556,\"#d8576b\"],[0.6666666666666666,\"#ed7953\"],[0.7777777777777778,\"#fb9f3a\"],[0.8888888888888888,\"#fdca26\"],[1.0,\"#f0f921\"]]}],\"contourcarpet\":[{\"type\":\"contourcarpet\",\"colorbar\":{\"outlinewidth\":0,\"ticks\":\"\"}}],\"contour\":[{\"type\":\"contour\",\"colorbar\":{\"outlinewidth\":0,\"ticks\":\"\"},\"colorscale\":[[0.0,\"#0d0887\"],[0.1111111111111111,\"#46039f\"],[0.2222222222222222,\"#7201a8\"],[0.3333333333333333,\"#9c179e\"],[0.4444444444444444,\"#bd3786\"],[0.5555555555555556,\"#d8576b\"],[0.6666666666666666,\"#ed7953\"],[0.7777777777777778,\"#fb9f3a\"],[0.8888888888888888,\"#fdca26\"],[1.0,\"#f0f921\"]]}],\"surface\":[{\"type\":\"surface\",\"colorbar\":{\"outlinewidth\":0,\"ticks\":\"\"},\"colorscale\":[[0.0,\"#0d0887\"],[0.1111111111111111,\"#46039f\"],[0.2222222222222222,\"#7201a8\"],[0.3333333333333333,\"#9c179e\"],[0.4444444444444444,\"#bd3786\"],[0.5555555555555556,\"#d8576b\"],[0.6666666666666666,\"#ed7953\"],[0.7777777777777778,\"#fb9f3a\"],[0.8888888888888888,\"#fdca26\"],[1.0,\"#f0f921\"]]}],\"mesh3d\":[{\"type\":\"mesh3d\",\"colorbar\":{\"outlinewidth\":0,\"ticks\":\"\"}}],\"scatter\":[{\"fillpattern\":{\"fillmode\":\"overlay\",\"size\":10,\"solidity\":0.2},\"type\":\"scatter\"}],\"parcoords\":[{\"type\":\"parcoords\",\"line\":{\"colorbar\":{\"outlinewidth\":0,\"ticks\":\"\"}}}],\"scatterpolargl\":[{\"type\":\"scatterpolargl\",\"marker\":{\"colorbar\":{\"outlinewidth\":0,\"ticks\":\"\"}}}],\"bar\":[{\"error_x\":{\"color\":\"#2a3f5f\"},\"error_y\":{\"color\":\"#2a3f5f\"},\"marker\":{\"line\":{\"color\":\"#E5ECF6\",\"width\":0.5},\"pattern\":{\"fillmode\":\"overlay\",\"size\":10,\"solidity\":0.2}},\"type\":\"bar\"}],\"scattergeo\":[{\"type\":\"scattergeo\",\"marker\":{\"colorbar\":{\"outlinewidth\":0,\"ticks\":\"\"}}}],\"scatterpolar\":[{\"type\":\"scatterpolar\",\"marker\":{\"colorbar\":{\"outlinewidth\":0,\"ticks\":\"\"}}}],\"histogram\":[{\"marker\":{\"pattern\":{\"fillmode\":\"overlay\",\"size\":10,\"solidity\":0.2}},\"type\":\"histogram\"}],\"scattergl\":[{\"type\":\"scattergl\",\"marker\":{\"colorbar\":{\"outlinewidth\":0,\"ticks\":\"\"}}}],\"scatter3d\":[{\"type\":\"scatter3d\",\"line\":{\"colorbar\":{\"outlinewidth\":0,\"ticks\":\"\"}},\"marker\":{\"colorbar\":{\"outlinewidth\":0,\"ticks\":\"\"}}}],\"scattermapbox\":[{\"type\":\"scattermapbox\",\"marker\":{\"colorbar\":{\"outlinewidth\":0,\"ticks\":\"\"}}}],\"scatterternary\":[{\"type\":\"scatterternary\",\"marker\":{\"colorbar\":{\"outlinewidth\":0,\"ticks\":\"\"}}}],\"scattercarpet\":[{\"type\":\"scattercarpet\",\"marker\":{\"colorbar\":{\"outlinewidth\":0,\"ticks\":\"\"}}}],\"carpet\":[{\"aaxis\":{\"endlinecolor\":\"#2a3f5f\",\"gridcolor\":\"white\",\"linecolor\":\"white\",\"minorgridcolor\":\"white\",\"startlinecolor\":\"#2a3f5f\"},\"baxis\":{\"endlinecolor\":\"#2a3f5f\",\"gridcolor\":\"white\",\"linecolor\":\"white\",\"minorgridcolor\":\"white\",\"startlinecolor\":\"#2a3f5f\"},\"type\":\"carpet\"}],\"table\":[{\"cells\":{\"fill\":{\"color\":\"#EBF0F8\"},\"line\":{\"color\":\"white\"}},\"header\":{\"fill\":{\"color\":\"#C8D4E3\"},\"line\":{\"color\":\"white\"}},\"type\":\"table\"}],\"barpolar\":[{\"marker\":{\"line\":{\"color\":\"#E5ECF6\",\"width\":0.5},\"pattern\":{\"fillmode\":\"overlay\",\"size\":10,\"solidity\":0.2}},\"type\":\"barpolar\"}],\"pie\":[{\"automargin\":true,\"type\":\"pie\"}]},\"layout\":{\"autotypenumbers\":\"strict\",\"colorway\":[\"#636efa\",\"#EF553B\",\"#00cc96\",\"#ab63fa\",\"#FFA15A\",\"#19d3f3\",\"#FF6692\",\"#B6E880\",\"#FF97FF\",\"#FECB52\"],\"font\":{\"color\":\"#2a3f5f\"},\"hovermode\":\"closest\",\"hoverlabel\":{\"align\":\"left\"},\"paper_bgcolor\":\"white\",\"plot_bgcolor\":\"#E5ECF6\",\"polar\":{\"bgcolor\":\"#E5ECF6\",\"angularaxis\":{\"gridcolor\":\"white\",\"linecolor\":\"white\",\"ticks\":\"\"},\"radialaxis\":{\"gridcolor\":\"white\",\"linecolor\":\"white\",\"ticks\":\"\"}},\"ternary\":{\"bgcolor\":\"#E5ECF6\",\"aaxis\":{\"gridcolor\":\"white\",\"linecolor\":\"white\",\"ticks\":\"\"},\"baxis\":{\"gridcolor\":\"white\",\"linecolor\":\"white\",\"ticks\":\"\"},\"caxis\":{\"gridcolor\":\"white\",\"linecolor\":\"white\",\"ticks\":\"\"}},\"coloraxis\":{\"colorbar\":{\"outlinewidth\":0,\"ticks\":\"\"}},\"colorscale\":{\"sequential\":[[0.0,\"#0d0887\"],[0.1111111111111111,\"#46039f\"],[0.2222222222222222,\"#7201a8\"],[0.3333333333333333,\"#9c179e\"],[0.4444444444444444,\"#bd3786\"],[0.5555555555555556,\"#d8576b\"],[0.6666666666666666,\"#ed7953\"],[0.7777777777777778,\"#fb9f3a\"],[0.8888888888888888,\"#fdca26\"],[1.0,\"#f0f921\"]],\"sequentialminus\":[[0.0,\"#0d0887\"],[0.1111111111111111,\"#46039f\"],[0.2222222222222222,\"#7201a8\"],[0.3333333333333333,\"#9c179e\"],[0.4444444444444444,\"#bd3786\"],[0.5555555555555556,\"#d8576b\"],[0.6666666666666666,\"#ed7953\"],[0.7777777777777778,\"#fb9f3a\"],[0.8888888888888888,\"#fdca26\"],[1.0,\"#f0f921\"]],\"diverging\":[[0,\"#8e0152\"],[0.1,\"#c51b7d\"],[0.2,\"#de77ae\"],[0.3,\"#f1b6da\"],[0.4,\"#fde0ef\"],[0.5,\"#f7f7f7\"],[0.6,\"#e6f5d0\"],[0.7,\"#b8e186\"],[0.8,\"#7fbc41\"],[0.9,\"#4d9221\"],[1,\"#276419\"]]},\"xaxis\":{\"gridcolor\":\"white\",\"linecolor\":\"white\",\"ticks\":\"\",\"title\":{\"standoff\":15},\"zerolinecolor\":\"white\",\"automargin\":true,\"zerolinewidth\":2},\"yaxis\":{\"gridcolor\":\"white\",\"linecolor\":\"white\",\"ticks\":\"\",\"title\":{\"standoff\":15},\"zerolinecolor\":\"white\",\"automargin\":true,\"zerolinewidth\":2},\"scene\":{\"xaxis\":{\"backgroundcolor\":\"#E5ECF6\",\"gridcolor\":\"white\",\"linecolor\":\"white\",\"showbackground\":true,\"ticks\":\"\",\"zerolinecolor\":\"white\",\"gridwidth\":2},\"yaxis\":{\"backgroundcolor\":\"#E5ECF6\",\"gridcolor\":\"white\",\"linecolor\":\"white\",\"showbackground\":true,\"ticks\":\"\",\"zerolinecolor\":\"white\",\"gridwidth\":2},\"zaxis\":{\"backgroundcolor\":\"#E5ECF6\",\"gridcolor\":\"white\",\"linecolor\":\"white\",\"showbackground\":true,\"ticks\":\"\",\"zerolinecolor\":\"white\",\"gridwidth\":2}},\"shapedefaults\":{\"line\":{\"color\":\"#2a3f5f\"}},\"annotationdefaults\":{\"arrowcolor\":\"#2a3f5f\",\"arrowhead\":0,\"arrowwidth\":1},\"geo\":{\"bgcolor\":\"white\",\"landcolor\":\"#E5ECF6\",\"subunitcolor\":\"white\",\"showland\":true,\"showlakes\":true,\"lakecolor\":\"white\"},\"title\":{\"x\":0.05},\"mapbox\":{\"style\":\"light\"}}},\"xaxis\":{\"anchor\":\"y\",\"domain\":[0.0,1.0],\"title\":{\"text\":\"Runs Scored\"}},\"yaxis\":{\"anchor\":\"x\",\"domain\":[0.0,1.0],\"title\":{\"text\":\"Batsman\"},\"tickmode\":\"linear\"},\"legend\":{\"tracegroupgap\":0},\"margin\":{\"t\":60},\"barmode\":\"relative\",\"title\":{\"text\":\"Most Runs Scored by Batsman\"},\"plot_bgcolor\":\"white\"},                        {\"responsive\": true}                    ).then(function(){\n",
       "                            \n",
       "var gd = document.getElementById('c57bea85-246e-428f-bc1c-c5cdcc751e4c');\n",
       "var x = new MutationObserver(function (mutations, observer) {{\n",
       "        var display = window.getComputedStyle(gd).display;\n",
       "        if (!display || display === 'none') {{\n",
       "            console.log([gd, 'removed!']);\n",
       "            Plotly.purge(gd);\n",
       "            observer.disconnect();\n",
       "        }}\n",
       "}});\n",
       "\n",
       "// Listen for the removal of the full notebook cells\n",
       "var notebookContainer = gd.closest('#notebook-container');\n",
       "if (notebookContainer) {{\n",
       "    x.observe(notebookContainer, {childList: true});\n",
       "}}\n",
       "\n",
       "// Listen for the clearing of the current output cell\n",
       "var outputEl = gd.closest('.output');\n",
       "if (outputEl) {{\n",
       "    x.observe(outputEl, {childList: true});\n",
       "}}\n",
       "\n",
       "                        })                };                });            </script>        </div>"
      ]
     },
     "metadata": {},
     "output_type": "display_data"
    }
   ],
   "source": [
    "import plotly.express as px\n",
    "# Sort by runs_off_bat and select top 10 batters\n",
    "top10batters = df.sort_values(by='runs_off_bat', ascending=False).head(10)\n",
    "\n",
    "# Create Plotly horizontal bar plot with dark green bars\n",
    "fig = px.bar(top10batters, x='runs_off_bat', y='striker',\n",
    "             labels={'striker': 'Batsman', 'runs_off_bat': 'Runs Scored'},\n",
    "             color_discrete_sequence=['darkgreen'],  # Set bar color to dark green\n",
    "             orientation='h')  # Set the orientation to horizontal\n",
    "\n",
    "# Customize layout for better readability and aesthetics\n",
    "fig.update_layout(\n",
    "    title='Most Runs Scored by Batsman',\n",
    "    xaxis_title='Runs Scored',\n",
    "    yaxis_title='Batsman',\n",
    "    yaxis=dict(tickmode='linear'),\n",
    "    plot_bgcolor='white'  # Set plot background color to white\n",
    ")\n",
    "\n",
    "# Show the plot\n",
    "fig.show()\n",
    "\n"
   ]
  },
  {
   "cell_type": "markdown",
   "id": "1f45e78f",
   "metadata": {
    "papermill": {
     "duration": 0.011348,
     "end_time": "2024-06-22T05:13:09.717120",
     "exception": false,
     "start_time": "2024-06-22T05:13:09.705772",
     "status": "completed"
    },
    "tags": []
   },
   "source": [
    "### **🔍Most of the runs were scored by J Charles & Saim Ayub & Mohammad Rizwan & Agha Salman.**\n",
    "\n",
    "\n"
   ]
  },
  {
   "cell_type": "code",
   "execution_count": 16,
   "id": "c4b7c857",
   "metadata": {
    "execution": {
     "iopub.execute_input": "2024-06-22T05:13:09.741522Z",
     "iopub.status.busy": "2024-06-22T05:13:09.741121Z",
     "iopub.status.idle": "2024-06-22T05:13:09.842550Z",
     "shell.execute_reply": "2024-06-22T05:13:09.841436Z"
    },
    "papermill": {
     "duration": 0.116333,
     "end_time": "2024-06-22T05:13:09.844985",
     "exception": false,
     "start_time": "2024-06-22T05:13:09.728652",
     "status": "completed"
    },
    "tags": []
   },
   "outputs": [
    {
     "data": {
      "text/html": [
       "<div>                            <div id=\"057b2693-fa6d-463a-b2a7-7352bd2537ac\" class=\"plotly-graph-div\" style=\"height:600px; width:100%;\"></div>            <script type=\"text/javascript\">                require([\"plotly\"], function(Plotly) {                    window.PLOTLYENV=window.PLOTLYENV || {};                                    if (document.getElementById(\"057b2693-fa6d-463a-b2a7-7352bd2537ac\")) {                    Plotly.newPlot(                        \"057b2693-fa6d-463a-b2a7-7352bd2537ac\",                        [{\"alignmentgroup\":\"True\",\"hovertemplate\":\"Bowler=%{x}\\u003cbr\\u003eNumber of Wickets Taken=%{marker.color}\\u003cextra\\u003e\\u003c\\u002fextra\\u003e\",\"legendgroup\":\"\",\"marker\":{\"color\":[24,19,16,15,15,15,14,14,14,13],\"coloraxis\":\"coloraxis\",\"pattern\":{\"shape\":\"\"}},\"name\":\"\",\"offsetgroup\":\"\",\"orientation\":\"v\",\"showlegend\":false,\"textposition\":\"auto\",\"x\":[\"Usama Mir\",\"Mohammad Ali\",\"Abrar Ahmed\",\"AJ Hosein\",\"DJ Willey\",\"Naseem Shah\",\"Shaheen Shah Afridi\",\"Shadab Khan\",\"Hasan Ali\",\"Abbas Afridi\"],\"xaxis\":\"x\",\"y\":[24,19,16,15,15,15,14,14,14,13],\"yaxis\":\"y\",\"type\":\"bar\"}],                        {\"template\":{\"data\":{\"histogram2dcontour\":[{\"type\":\"histogram2dcontour\",\"colorbar\":{\"outlinewidth\":0,\"ticks\":\"\"},\"colorscale\":[[0.0,\"#0d0887\"],[0.1111111111111111,\"#46039f\"],[0.2222222222222222,\"#7201a8\"],[0.3333333333333333,\"#9c179e\"],[0.4444444444444444,\"#bd3786\"],[0.5555555555555556,\"#d8576b\"],[0.6666666666666666,\"#ed7953\"],[0.7777777777777778,\"#fb9f3a\"],[0.8888888888888888,\"#fdca26\"],[1.0,\"#f0f921\"]]}],\"choropleth\":[{\"type\":\"choropleth\",\"colorbar\":{\"outlinewidth\":0,\"ticks\":\"\"}}],\"histogram2d\":[{\"type\":\"histogram2d\",\"colorbar\":{\"outlinewidth\":0,\"ticks\":\"\"},\"colorscale\":[[0.0,\"#0d0887\"],[0.1111111111111111,\"#46039f\"],[0.2222222222222222,\"#7201a8\"],[0.3333333333333333,\"#9c179e\"],[0.4444444444444444,\"#bd3786\"],[0.5555555555555556,\"#d8576b\"],[0.6666666666666666,\"#ed7953\"],[0.7777777777777778,\"#fb9f3a\"],[0.8888888888888888,\"#fdca26\"],[1.0,\"#f0f921\"]]}],\"heatmap\":[{\"type\":\"heatmap\",\"colorbar\":{\"outlinewidth\":0,\"ticks\":\"\"},\"colorscale\":[[0.0,\"#0d0887\"],[0.1111111111111111,\"#46039f\"],[0.2222222222222222,\"#7201a8\"],[0.3333333333333333,\"#9c179e\"],[0.4444444444444444,\"#bd3786\"],[0.5555555555555556,\"#d8576b\"],[0.6666666666666666,\"#ed7953\"],[0.7777777777777778,\"#fb9f3a\"],[0.8888888888888888,\"#fdca26\"],[1.0,\"#f0f921\"]]}],\"heatmapgl\":[{\"type\":\"heatmapgl\",\"colorbar\":{\"outlinewidth\":0,\"ticks\":\"\"},\"colorscale\":[[0.0,\"#0d0887\"],[0.1111111111111111,\"#46039f\"],[0.2222222222222222,\"#7201a8\"],[0.3333333333333333,\"#9c179e\"],[0.4444444444444444,\"#bd3786\"],[0.5555555555555556,\"#d8576b\"],[0.6666666666666666,\"#ed7953\"],[0.7777777777777778,\"#fb9f3a\"],[0.8888888888888888,\"#fdca26\"],[1.0,\"#f0f921\"]]}],\"contourcarpet\":[{\"type\":\"contourcarpet\",\"colorbar\":{\"outlinewidth\":0,\"ticks\":\"\"}}],\"contour\":[{\"type\":\"contour\",\"colorbar\":{\"outlinewidth\":0,\"ticks\":\"\"},\"colorscale\":[[0.0,\"#0d0887\"],[0.1111111111111111,\"#46039f\"],[0.2222222222222222,\"#7201a8\"],[0.3333333333333333,\"#9c179e\"],[0.4444444444444444,\"#bd3786\"],[0.5555555555555556,\"#d8576b\"],[0.6666666666666666,\"#ed7953\"],[0.7777777777777778,\"#fb9f3a\"],[0.8888888888888888,\"#fdca26\"],[1.0,\"#f0f921\"]]}],\"surface\":[{\"type\":\"surface\",\"colorbar\":{\"outlinewidth\":0,\"ticks\":\"\"},\"colorscale\":[[0.0,\"#0d0887\"],[0.1111111111111111,\"#46039f\"],[0.2222222222222222,\"#7201a8\"],[0.3333333333333333,\"#9c179e\"],[0.4444444444444444,\"#bd3786\"],[0.5555555555555556,\"#d8576b\"],[0.6666666666666666,\"#ed7953\"],[0.7777777777777778,\"#fb9f3a\"],[0.8888888888888888,\"#fdca26\"],[1.0,\"#f0f921\"]]}],\"mesh3d\":[{\"type\":\"mesh3d\",\"colorbar\":{\"outlinewidth\":0,\"ticks\":\"\"}}],\"scatter\":[{\"fillpattern\":{\"fillmode\":\"overlay\",\"size\":10,\"solidity\":0.2},\"type\":\"scatter\"}],\"parcoords\":[{\"type\":\"parcoords\",\"line\":{\"colorbar\":{\"outlinewidth\":0,\"ticks\":\"\"}}}],\"scatterpolargl\":[{\"type\":\"scatterpolargl\",\"marker\":{\"colorbar\":{\"outlinewidth\":0,\"ticks\":\"\"}}}],\"bar\":[{\"error_x\":{\"color\":\"#2a3f5f\"},\"error_y\":{\"color\":\"#2a3f5f\"},\"marker\":{\"line\":{\"color\":\"#E5ECF6\",\"width\":0.5},\"pattern\":{\"fillmode\":\"overlay\",\"size\":10,\"solidity\":0.2}},\"type\":\"bar\"}],\"scattergeo\":[{\"type\":\"scattergeo\",\"marker\":{\"colorbar\":{\"outlinewidth\":0,\"ticks\":\"\"}}}],\"scatterpolar\":[{\"type\":\"scatterpolar\",\"marker\":{\"colorbar\":{\"outlinewidth\":0,\"ticks\":\"\"}}}],\"histogram\":[{\"marker\":{\"pattern\":{\"fillmode\":\"overlay\",\"size\":10,\"solidity\":0.2}},\"type\":\"histogram\"}],\"scattergl\":[{\"type\":\"scattergl\",\"marker\":{\"colorbar\":{\"outlinewidth\":0,\"ticks\":\"\"}}}],\"scatter3d\":[{\"type\":\"scatter3d\",\"line\":{\"colorbar\":{\"outlinewidth\":0,\"ticks\":\"\"}},\"marker\":{\"colorbar\":{\"outlinewidth\":0,\"ticks\":\"\"}}}],\"scattermapbox\":[{\"type\":\"scattermapbox\",\"marker\":{\"colorbar\":{\"outlinewidth\":0,\"ticks\":\"\"}}}],\"scatterternary\":[{\"type\":\"scatterternary\",\"marker\":{\"colorbar\":{\"outlinewidth\":0,\"ticks\":\"\"}}}],\"scattercarpet\":[{\"type\":\"scattercarpet\",\"marker\":{\"colorbar\":{\"outlinewidth\":0,\"ticks\":\"\"}}}],\"carpet\":[{\"aaxis\":{\"endlinecolor\":\"#2a3f5f\",\"gridcolor\":\"white\",\"linecolor\":\"white\",\"minorgridcolor\":\"white\",\"startlinecolor\":\"#2a3f5f\"},\"baxis\":{\"endlinecolor\":\"#2a3f5f\",\"gridcolor\":\"white\",\"linecolor\":\"white\",\"minorgridcolor\":\"white\",\"startlinecolor\":\"#2a3f5f\"},\"type\":\"carpet\"}],\"table\":[{\"cells\":{\"fill\":{\"color\":\"#EBF0F8\"},\"line\":{\"color\":\"white\"}},\"header\":{\"fill\":{\"color\":\"#C8D4E3\"},\"line\":{\"color\":\"white\"}},\"type\":\"table\"}],\"barpolar\":[{\"marker\":{\"line\":{\"color\":\"#E5ECF6\",\"width\":0.5},\"pattern\":{\"fillmode\":\"overlay\",\"size\":10,\"solidity\":0.2}},\"type\":\"barpolar\"}],\"pie\":[{\"automargin\":true,\"type\":\"pie\"}]},\"layout\":{\"autotypenumbers\":\"strict\",\"colorway\":[\"#636efa\",\"#EF553B\",\"#00cc96\",\"#ab63fa\",\"#FFA15A\",\"#19d3f3\",\"#FF6692\",\"#B6E880\",\"#FF97FF\",\"#FECB52\"],\"font\":{\"color\":\"#2a3f5f\"},\"hovermode\":\"closest\",\"hoverlabel\":{\"align\":\"left\"},\"paper_bgcolor\":\"white\",\"plot_bgcolor\":\"#E5ECF6\",\"polar\":{\"bgcolor\":\"#E5ECF6\",\"angularaxis\":{\"gridcolor\":\"white\",\"linecolor\":\"white\",\"ticks\":\"\"},\"radialaxis\":{\"gridcolor\":\"white\",\"linecolor\":\"white\",\"ticks\":\"\"}},\"ternary\":{\"bgcolor\":\"#E5ECF6\",\"aaxis\":{\"gridcolor\":\"white\",\"linecolor\":\"white\",\"ticks\":\"\"},\"baxis\":{\"gridcolor\":\"white\",\"linecolor\":\"white\",\"ticks\":\"\"},\"caxis\":{\"gridcolor\":\"white\",\"linecolor\":\"white\",\"ticks\":\"\"}},\"coloraxis\":{\"colorbar\":{\"outlinewidth\":0,\"ticks\":\"\"}},\"colorscale\":{\"sequential\":[[0.0,\"#0d0887\"],[0.1111111111111111,\"#46039f\"],[0.2222222222222222,\"#7201a8\"],[0.3333333333333333,\"#9c179e\"],[0.4444444444444444,\"#bd3786\"],[0.5555555555555556,\"#d8576b\"],[0.6666666666666666,\"#ed7953\"],[0.7777777777777778,\"#fb9f3a\"],[0.8888888888888888,\"#fdca26\"],[1.0,\"#f0f921\"]],\"sequentialminus\":[[0.0,\"#0d0887\"],[0.1111111111111111,\"#46039f\"],[0.2222222222222222,\"#7201a8\"],[0.3333333333333333,\"#9c179e\"],[0.4444444444444444,\"#bd3786\"],[0.5555555555555556,\"#d8576b\"],[0.6666666666666666,\"#ed7953\"],[0.7777777777777778,\"#fb9f3a\"],[0.8888888888888888,\"#fdca26\"],[1.0,\"#f0f921\"]],\"diverging\":[[0,\"#8e0152\"],[0.1,\"#c51b7d\"],[0.2,\"#de77ae\"],[0.3,\"#f1b6da\"],[0.4,\"#fde0ef\"],[0.5,\"#f7f7f7\"],[0.6,\"#e6f5d0\"],[0.7,\"#b8e186\"],[0.8,\"#7fbc41\"],[0.9,\"#4d9221\"],[1,\"#276419\"]]},\"xaxis\":{\"gridcolor\":\"white\",\"linecolor\":\"white\",\"ticks\":\"\",\"title\":{\"standoff\":15},\"zerolinecolor\":\"white\",\"automargin\":true,\"zerolinewidth\":2},\"yaxis\":{\"gridcolor\":\"white\",\"linecolor\":\"white\",\"ticks\":\"\",\"title\":{\"standoff\":15},\"zerolinecolor\":\"white\",\"automargin\":true,\"zerolinewidth\":2},\"scene\":{\"xaxis\":{\"backgroundcolor\":\"#E5ECF6\",\"gridcolor\":\"white\",\"linecolor\":\"white\",\"showbackground\":true,\"ticks\":\"\",\"zerolinecolor\":\"white\",\"gridwidth\":2},\"yaxis\":{\"backgroundcolor\":\"#E5ECF6\",\"gridcolor\":\"white\",\"linecolor\":\"white\",\"showbackground\":true,\"ticks\":\"\",\"zerolinecolor\":\"white\",\"gridwidth\":2},\"zaxis\":{\"backgroundcolor\":\"#E5ECF6\",\"gridcolor\":\"white\",\"linecolor\":\"white\",\"showbackground\":true,\"ticks\":\"\",\"zerolinecolor\":\"white\",\"gridwidth\":2}},\"shapedefaults\":{\"line\":{\"color\":\"#2a3f5f\"}},\"annotationdefaults\":{\"arrowcolor\":\"#2a3f5f\",\"arrowhead\":0,\"arrowwidth\":1},\"geo\":{\"bgcolor\":\"white\",\"landcolor\":\"#E5ECF6\",\"subunitcolor\":\"white\",\"showland\":true,\"showlakes\":true,\"lakecolor\":\"white\"},\"title\":{\"x\":0.05},\"mapbox\":{\"style\":\"light\"}}},\"xaxis\":{\"anchor\":\"y\",\"domain\":[0.0,1.0],\"title\":{\"text\":\"Bowler\"},\"categoryorder\":\"total descending\",\"tickangle\":-45},\"yaxis\":{\"anchor\":\"x\",\"domain\":[0.0,1.0],\"title\":{\"text\":\"Number of Wickets Taken\"},\"tickmode\":\"linear\"},\"coloraxis\":{\"colorbar\":{\"title\":{\"text\":\"Number of Wickets Taken\"}},\"colorscale\":[[0.0,\"#440154\"],[0.1111111111111111,\"#482878\"],[0.2222222222222222,\"#3e4989\"],[0.3333333333333333,\"#31688e\"],[0.4444444444444444,\"#26828e\"],[0.5555555555555556,\"#1f9e89\"],[0.6666666666666666,\"#35b779\"],[0.7777777777777778,\"#6ece58\"],[0.8888888888888888,\"#b5de2b\"],[1.0,\"#fde725\"]]},\"legend\":{\"tracegroupgap\":0},\"margin\":{\"t\":60},\"barmode\":\"relative\",\"height\":600,\"plot_bgcolor\":\"green\"},                        {\"responsive\": true}                    ).then(function(){\n",
       "                            \n",
       "var gd = document.getElementById('057b2693-fa6d-463a-b2a7-7352bd2537ac');\n",
       "var x = new MutationObserver(function (mutations, observer) {{\n",
       "        var display = window.getComputedStyle(gd).display;\n",
       "        if (!display || display === 'none') {{\n",
       "            console.log([gd, 'removed!']);\n",
       "            Plotly.purge(gd);\n",
       "            observer.disconnect();\n",
       "        }}\n",
       "}});\n",
       "\n",
       "// Listen for the removal of the full notebook cells\n",
       "var notebookContainer = gd.closest('#notebook-container');\n",
       "if (notebookContainer) {{\n",
       "    x.observe(notebookContainer, {childList: true});\n",
       "}}\n",
       "\n",
       "// Listen for the clearing of the current output cell\n",
       "var outputEl = gd.closest('.output');\n",
       "if (outputEl) {{\n",
       "    x.observe(outputEl, {childList: true});\n",
       "}}\n",
       "\n",
       "                        })                };                });            </script>        </div>"
      ]
     },
     "metadata": {},
     "output_type": "display_data"
    }
   ],
   "source": [
    "# Filter out rows where wicket_type is NaN and exclude 'run out'\n",
    "wickets_by_bowlers = df[df['wicket_type'].notna()]\n",
    "wickets_by_bowlers = wickets_by_bowlers[wickets_by_bowlers['wicket_type'] != 'run out']\n",
    "\n",
    "# Group by bowler and count the number of wickets, then sort and select top 10\n",
    "wkts_by_bowler = wickets_by_bowlers.groupby(['bowler'])['wicket_type'].count().sort_values(ascending=False).reset_index()\n",
    "top10bowlers = wkts_by_bowler.head(10)\n",
    "\n",
    "# Create Plotly bar plot\n",
    "fig = px.bar(top10bowlers, x='bowler', y='wicket_type',\n",
    "             labels={'bowler': 'Bowler', 'wicket_type': 'Number of Wickets Taken'},\n",
    "             color='wicket_type',  # Color bars by number of wickets taken\n",
    "             color_continuous_scale='viridis',  # Choose a color scale\n",
    "             )\n",
    "\n",
    "# Customize layout for better readability and background color\n",
    "fig.update_layout(\n",
    "    xaxis_title='Bowler',\n",
    "    yaxis_title='Number of Wickets Taken',\n",
    "    xaxis={'categoryorder': 'total descending'},  # Sort bowlers by total wickets\n",
    "    yaxis=dict(tickmode='linear'),\n",
    "    height=600,  # Adjust height as needed\n",
    "    plot_bgcolor='green',  # Set background color to green\n",
    ")\n",
    "\n",
    "# Rotate x-axis labels for better readability\n",
    "fig.update_xaxes(tickangle=-45)\n",
    "\n",
    "# Show the plot\n",
    "fig.show()\n"
   ]
  },
  {
   "cell_type": "markdown",
   "id": "1de525a6",
   "metadata": {
    "papermill": {
     "duration": 0.011308,
     "end_time": "2024-06-22T05:13:09.867906",
     "exception": false,
     "start_time": "2024-06-22T05:13:09.856598",
     "status": "completed"
    },
    "tags": []
   },
   "source": [
    "### **🥇🏏Most Wickets Taken by a Bowler Usama Mir🥇🏏**\n"
   ]
  },
  {
   "cell_type": "code",
   "execution_count": 17,
   "id": "59b5254f",
   "metadata": {
    "execution": {
     "iopub.execute_input": "2024-06-22T05:13:09.893525Z",
     "iopub.status.busy": "2024-06-22T05:13:09.893093Z",
     "iopub.status.idle": "2024-06-22T05:13:09.994135Z",
     "shell.execute_reply": "2024-06-22T05:13:09.992888Z"
    },
    "papermill": {
     "duration": 0.11706,
     "end_time": "2024-06-22T05:13:09.996599",
     "exception": false,
     "start_time": "2024-06-22T05:13:09.879539",
     "status": "completed"
    },
    "tags": []
   },
   "outputs": [
    {
     "data": {
      "text/html": [
       "<div>                            <div id=\"a7b81a2b-4514-4db0-adfd-96a8983aa350\" class=\"plotly-graph-div\" style=\"height:600px; width:100%;\"></div>            <script type=\"text/javascript\">                require([\"plotly\"], function(Plotly) {                    window.PLOTLYENV=window.PLOTLYENV || {};                                    if (document.getElementById(\"a7b81a2b-4514-4db0-adfd-96a8983aa350\")) {                    Plotly.newPlot(                        \"a7b81a2b-4514-4db0-adfd-96a8983aa350\",                        [{\"alignmentgroup\":\"True\",\"hovertemplate\":\"Teams=%{x}\\u003cbr\\u003eNumber of Wickets=%{y}\\u003cextra\\u003e\\u003c\\u002fextra\\u003e\",\"legendgroup\":\"Islamabad United\",\"marker\":{\"color\":\"darkgreen\",\"pattern\":{\"shape\":\"\"}},\"name\":\"Islamabad United\",\"offsetgroup\":\"Islamabad United\",\"orientation\":\"v\",\"showlegend\":true,\"textposition\":\"auto\",\"x\":[\"Islamabad United\"],\"xaxis\":\"x\",\"y\":[78],\"yaxis\":\"y\",\"type\":\"bar\"},{\"alignmentgroup\":\"True\",\"hovertemplate\":\"Teams=%{x}\\u003cbr\\u003eNumber of Wickets=%{y}\\u003cextra\\u003e\\u003c\\u002fextra\\u003e\",\"legendgroup\":\"Karachi Kings\",\"marker\":{\"color\":\"darkgreen\",\"pattern\":{\"shape\":\"\"}},\"name\":\"Karachi Kings\",\"offsetgroup\":\"Karachi Kings\",\"orientation\":\"v\",\"showlegend\":true,\"textposition\":\"auto\",\"x\":[\"Karachi Kings\"],\"xaxis\":\"x\",\"y\":[55],\"yaxis\":\"y\",\"type\":\"bar\"},{\"alignmentgroup\":\"True\",\"hovertemplate\":\"Teams=%{x}\\u003cbr\\u003eNumber of Wickets=%{y}\\u003cextra\\u003e\\u003c\\u002fextra\\u003e\",\"legendgroup\":\"Lahore Qalandars\",\"marker\":{\"color\":\"darkgreen\",\"pattern\":{\"shape\":\"\"}},\"name\":\"Lahore Qalandars\",\"offsetgroup\":\"Lahore Qalandars\",\"orientation\":\"v\",\"showlegend\":true,\"textposition\":\"auto\",\"x\":[\"Lahore Qalandars\"],\"xaxis\":\"x\",\"y\":[49],\"yaxis\":\"y\",\"type\":\"bar\"},{\"alignmentgroup\":\"True\",\"hovertemplate\":\"Teams=%{x}\\u003cbr\\u003eNumber of Wickets=%{y}\\u003cextra\\u003e\\u003c\\u002fextra\\u003e\",\"legendgroup\":\"Multan Sultans\",\"marker\":{\"color\":\"darkgreen\",\"pattern\":{\"shape\":\"\"}},\"name\":\"Multan Sultans\",\"offsetgroup\":\"Multan Sultans\",\"orientation\":\"v\",\"showlegend\":true,\"textposition\":\"auto\",\"x\":[\"Multan Sultans\"],\"xaxis\":\"x\",\"y\":[94],\"yaxis\":\"y\",\"type\":\"bar\"},{\"alignmentgroup\":\"True\",\"hovertemplate\":\"Teams=%{x}\\u003cbr\\u003eNumber of Wickets=%{y}\\u003cextra\\u003e\\u003c\\u002fextra\\u003e\",\"legendgroup\":\"Peshawar Zalmi\",\"marker\":{\"color\":\"darkgreen\",\"pattern\":{\"shape\":\"\"}},\"name\":\"Peshawar Zalmi\",\"offsetgroup\":\"Peshawar Zalmi\",\"orientation\":\"v\",\"showlegend\":true,\"textposition\":\"auto\",\"x\":[\"Peshawar Zalmi\"],\"xaxis\":\"x\",\"y\":[65],\"yaxis\":\"y\",\"type\":\"bar\"},{\"alignmentgroup\":\"True\",\"hovertemplate\":\"Teams=%{x}\\u003cbr\\u003eNumber of Wickets=%{y}\\u003cextra\\u003e\\u003c\\u002fextra\\u003e\",\"legendgroup\":\"Quetta Gladiators\",\"marker\":{\"color\":\"darkgreen\",\"pattern\":{\"shape\":\"\"}},\"name\":\"Quetta Gladiators\",\"offsetgroup\":\"Quetta Gladiators\",\"orientation\":\"v\",\"showlegend\":true,\"textposition\":\"auto\",\"x\":[\"Quetta Gladiators\"],\"xaxis\":\"x\",\"y\":[62],\"yaxis\":\"y\",\"type\":\"bar\"}],                        {\"template\":{\"data\":{\"histogram2dcontour\":[{\"type\":\"histogram2dcontour\",\"colorbar\":{\"outlinewidth\":0,\"ticks\":\"\"},\"colorscale\":[[0.0,\"#0d0887\"],[0.1111111111111111,\"#46039f\"],[0.2222222222222222,\"#7201a8\"],[0.3333333333333333,\"#9c179e\"],[0.4444444444444444,\"#bd3786\"],[0.5555555555555556,\"#d8576b\"],[0.6666666666666666,\"#ed7953\"],[0.7777777777777778,\"#fb9f3a\"],[0.8888888888888888,\"#fdca26\"],[1.0,\"#f0f921\"]]}],\"choropleth\":[{\"type\":\"choropleth\",\"colorbar\":{\"outlinewidth\":0,\"ticks\":\"\"}}],\"histogram2d\":[{\"type\":\"histogram2d\",\"colorbar\":{\"outlinewidth\":0,\"ticks\":\"\"},\"colorscale\":[[0.0,\"#0d0887\"],[0.1111111111111111,\"#46039f\"],[0.2222222222222222,\"#7201a8\"],[0.3333333333333333,\"#9c179e\"],[0.4444444444444444,\"#bd3786\"],[0.5555555555555556,\"#d8576b\"],[0.6666666666666666,\"#ed7953\"],[0.7777777777777778,\"#fb9f3a\"],[0.8888888888888888,\"#fdca26\"],[1.0,\"#f0f921\"]]}],\"heatmap\":[{\"type\":\"heatmap\",\"colorbar\":{\"outlinewidth\":0,\"ticks\":\"\"},\"colorscale\":[[0.0,\"#0d0887\"],[0.1111111111111111,\"#46039f\"],[0.2222222222222222,\"#7201a8\"],[0.3333333333333333,\"#9c179e\"],[0.4444444444444444,\"#bd3786\"],[0.5555555555555556,\"#d8576b\"],[0.6666666666666666,\"#ed7953\"],[0.7777777777777778,\"#fb9f3a\"],[0.8888888888888888,\"#fdca26\"],[1.0,\"#f0f921\"]]}],\"heatmapgl\":[{\"type\":\"heatmapgl\",\"colorbar\":{\"outlinewidth\":0,\"ticks\":\"\"},\"colorscale\":[[0.0,\"#0d0887\"],[0.1111111111111111,\"#46039f\"],[0.2222222222222222,\"#7201a8\"],[0.3333333333333333,\"#9c179e\"],[0.4444444444444444,\"#bd3786\"],[0.5555555555555556,\"#d8576b\"],[0.6666666666666666,\"#ed7953\"],[0.7777777777777778,\"#fb9f3a\"],[0.8888888888888888,\"#fdca26\"],[1.0,\"#f0f921\"]]}],\"contourcarpet\":[{\"type\":\"contourcarpet\",\"colorbar\":{\"outlinewidth\":0,\"ticks\":\"\"}}],\"contour\":[{\"type\":\"contour\",\"colorbar\":{\"outlinewidth\":0,\"ticks\":\"\"},\"colorscale\":[[0.0,\"#0d0887\"],[0.1111111111111111,\"#46039f\"],[0.2222222222222222,\"#7201a8\"],[0.3333333333333333,\"#9c179e\"],[0.4444444444444444,\"#bd3786\"],[0.5555555555555556,\"#d8576b\"],[0.6666666666666666,\"#ed7953\"],[0.7777777777777778,\"#fb9f3a\"],[0.8888888888888888,\"#fdca26\"],[1.0,\"#f0f921\"]]}],\"surface\":[{\"type\":\"surface\",\"colorbar\":{\"outlinewidth\":0,\"ticks\":\"\"},\"colorscale\":[[0.0,\"#0d0887\"],[0.1111111111111111,\"#46039f\"],[0.2222222222222222,\"#7201a8\"],[0.3333333333333333,\"#9c179e\"],[0.4444444444444444,\"#bd3786\"],[0.5555555555555556,\"#d8576b\"],[0.6666666666666666,\"#ed7953\"],[0.7777777777777778,\"#fb9f3a\"],[0.8888888888888888,\"#fdca26\"],[1.0,\"#f0f921\"]]}],\"mesh3d\":[{\"type\":\"mesh3d\",\"colorbar\":{\"outlinewidth\":0,\"ticks\":\"\"}}],\"scatter\":[{\"fillpattern\":{\"fillmode\":\"overlay\",\"size\":10,\"solidity\":0.2},\"type\":\"scatter\"}],\"parcoords\":[{\"type\":\"parcoords\",\"line\":{\"colorbar\":{\"outlinewidth\":0,\"ticks\":\"\"}}}],\"scatterpolargl\":[{\"type\":\"scatterpolargl\",\"marker\":{\"colorbar\":{\"outlinewidth\":0,\"ticks\":\"\"}}}],\"bar\":[{\"error_x\":{\"color\":\"#2a3f5f\"},\"error_y\":{\"color\":\"#2a3f5f\"},\"marker\":{\"line\":{\"color\":\"#E5ECF6\",\"width\":0.5},\"pattern\":{\"fillmode\":\"overlay\",\"size\":10,\"solidity\":0.2}},\"type\":\"bar\"}],\"scattergeo\":[{\"type\":\"scattergeo\",\"marker\":{\"colorbar\":{\"outlinewidth\":0,\"ticks\":\"\"}}}],\"scatterpolar\":[{\"type\":\"scatterpolar\",\"marker\":{\"colorbar\":{\"outlinewidth\":0,\"ticks\":\"\"}}}],\"histogram\":[{\"marker\":{\"pattern\":{\"fillmode\":\"overlay\",\"size\":10,\"solidity\":0.2}},\"type\":\"histogram\"}],\"scattergl\":[{\"type\":\"scattergl\",\"marker\":{\"colorbar\":{\"outlinewidth\":0,\"ticks\":\"\"}}}],\"scatter3d\":[{\"type\":\"scatter3d\",\"line\":{\"colorbar\":{\"outlinewidth\":0,\"ticks\":\"\"}},\"marker\":{\"colorbar\":{\"outlinewidth\":0,\"ticks\":\"\"}}}],\"scattermapbox\":[{\"type\":\"scattermapbox\",\"marker\":{\"colorbar\":{\"outlinewidth\":0,\"ticks\":\"\"}}}],\"scatterternary\":[{\"type\":\"scatterternary\",\"marker\":{\"colorbar\":{\"outlinewidth\":0,\"ticks\":\"\"}}}],\"scattercarpet\":[{\"type\":\"scattercarpet\",\"marker\":{\"colorbar\":{\"outlinewidth\":0,\"ticks\":\"\"}}}],\"carpet\":[{\"aaxis\":{\"endlinecolor\":\"#2a3f5f\",\"gridcolor\":\"white\",\"linecolor\":\"white\",\"minorgridcolor\":\"white\",\"startlinecolor\":\"#2a3f5f\"},\"baxis\":{\"endlinecolor\":\"#2a3f5f\",\"gridcolor\":\"white\",\"linecolor\":\"white\",\"minorgridcolor\":\"white\",\"startlinecolor\":\"#2a3f5f\"},\"type\":\"carpet\"}],\"table\":[{\"cells\":{\"fill\":{\"color\":\"#EBF0F8\"},\"line\":{\"color\":\"white\"}},\"header\":{\"fill\":{\"color\":\"#C8D4E3\"},\"line\":{\"color\":\"white\"}},\"type\":\"table\"}],\"barpolar\":[{\"marker\":{\"line\":{\"color\":\"#E5ECF6\",\"width\":0.5},\"pattern\":{\"fillmode\":\"overlay\",\"size\":10,\"solidity\":0.2}},\"type\":\"barpolar\"}],\"pie\":[{\"automargin\":true,\"type\":\"pie\"}]},\"layout\":{\"autotypenumbers\":\"strict\",\"colorway\":[\"#636efa\",\"#EF553B\",\"#00cc96\",\"#ab63fa\",\"#FFA15A\",\"#19d3f3\",\"#FF6692\",\"#B6E880\",\"#FF97FF\",\"#FECB52\"],\"font\":{\"color\":\"#2a3f5f\"},\"hovermode\":\"closest\",\"hoverlabel\":{\"align\":\"left\"},\"paper_bgcolor\":\"white\",\"plot_bgcolor\":\"#E5ECF6\",\"polar\":{\"bgcolor\":\"#E5ECF6\",\"angularaxis\":{\"gridcolor\":\"white\",\"linecolor\":\"white\",\"ticks\":\"\"},\"radialaxis\":{\"gridcolor\":\"white\",\"linecolor\":\"white\",\"ticks\":\"\"}},\"ternary\":{\"bgcolor\":\"#E5ECF6\",\"aaxis\":{\"gridcolor\":\"white\",\"linecolor\":\"white\",\"ticks\":\"\"},\"baxis\":{\"gridcolor\":\"white\",\"linecolor\":\"white\",\"ticks\":\"\"},\"caxis\":{\"gridcolor\":\"white\",\"linecolor\":\"white\",\"ticks\":\"\"}},\"coloraxis\":{\"colorbar\":{\"outlinewidth\":0,\"ticks\":\"\"}},\"colorscale\":{\"sequential\":[[0.0,\"#0d0887\"],[0.1111111111111111,\"#46039f\"],[0.2222222222222222,\"#7201a8\"],[0.3333333333333333,\"#9c179e\"],[0.4444444444444444,\"#bd3786\"],[0.5555555555555556,\"#d8576b\"],[0.6666666666666666,\"#ed7953\"],[0.7777777777777778,\"#fb9f3a\"],[0.8888888888888888,\"#fdca26\"],[1.0,\"#f0f921\"]],\"sequentialminus\":[[0.0,\"#0d0887\"],[0.1111111111111111,\"#46039f\"],[0.2222222222222222,\"#7201a8\"],[0.3333333333333333,\"#9c179e\"],[0.4444444444444444,\"#bd3786\"],[0.5555555555555556,\"#d8576b\"],[0.6666666666666666,\"#ed7953\"],[0.7777777777777778,\"#fb9f3a\"],[0.8888888888888888,\"#fdca26\"],[1.0,\"#f0f921\"]],\"diverging\":[[0,\"#8e0152\"],[0.1,\"#c51b7d\"],[0.2,\"#de77ae\"],[0.3,\"#f1b6da\"],[0.4,\"#fde0ef\"],[0.5,\"#f7f7f7\"],[0.6,\"#e6f5d0\"],[0.7,\"#b8e186\"],[0.8,\"#7fbc41\"],[0.9,\"#4d9221\"],[1,\"#276419\"]]},\"xaxis\":{\"gridcolor\":\"white\",\"linecolor\":\"white\",\"ticks\":\"\",\"title\":{\"standoff\":15},\"zerolinecolor\":\"white\",\"automargin\":true,\"zerolinewidth\":2},\"yaxis\":{\"gridcolor\":\"white\",\"linecolor\":\"white\",\"ticks\":\"\",\"title\":{\"standoff\":15},\"zerolinecolor\":\"white\",\"automargin\":true,\"zerolinewidth\":2},\"scene\":{\"xaxis\":{\"backgroundcolor\":\"#E5ECF6\",\"gridcolor\":\"white\",\"linecolor\":\"white\",\"showbackground\":true,\"ticks\":\"\",\"zerolinecolor\":\"white\",\"gridwidth\":2},\"yaxis\":{\"backgroundcolor\":\"#E5ECF6\",\"gridcolor\":\"white\",\"linecolor\":\"white\",\"showbackground\":true,\"ticks\":\"\",\"zerolinecolor\":\"white\",\"gridwidth\":2},\"zaxis\":{\"backgroundcolor\":\"#E5ECF6\",\"gridcolor\":\"white\",\"linecolor\":\"white\",\"showbackground\":true,\"ticks\":\"\",\"zerolinecolor\":\"white\",\"gridwidth\":2}},\"shapedefaults\":{\"line\":{\"color\":\"#2a3f5f\"}},\"annotationdefaults\":{\"arrowcolor\":\"#2a3f5f\",\"arrowhead\":0,\"arrowwidth\":1},\"geo\":{\"bgcolor\":\"white\",\"landcolor\":\"#E5ECF6\",\"subunitcolor\":\"white\",\"showland\":true,\"showlakes\":true,\"lakecolor\":\"white\"},\"title\":{\"x\":0.05},\"mapbox\":{\"style\":\"light\"}}},\"xaxis\":{\"anchor\":\"y\",\"domain\":[0.0,1.0],\"title\":{\"text\":\"Teams\"},\"categoryorder\":\"total descending\",\"categoryarray\":[\"Islamabad United\",\"Karachi Kings\",\"Lahore Qalandars\",\"Multan Sultans\",\"Peshawar Zalmi\",\"Quetta Gladiators\"],\"tickangle\":-45},\"yaxis\":{\"anchor\":\"x\",\"domain\":[0.0,1.0],\"title\":{\"text\":\"Number of Wickets\"}},\"legend\":{\"title\":{\"text\":\"Teams\"},\"tracegroupgap\":0},\"margin\":{\"t\":60},\"barmode\":\"relative\",\"height\":600,\"plot_bgcolor\":\"white\"},                        {\"responsive\": true}                    ).then(function(){\n",
       "                            \n",
       "var gd = document.getElementById('a7b81a2b-4514-4db0-adfd-96a8983aa350');\n",
       "var x = new MutationObserver(function (mutations, observer) {{\n",
       "        var display = window.getComputedStyle(gd).display;\n",
       "        if (!display || display === 'none') {{\n",
       "            console.log([gd, 'removed!']);\n",
       "            Plotly.purge(gd);\n",
       "            observer.disconnect();\n",
       "        }}\n",
       "}});\n",
       "\n",
       "// Listen for the removal of the full notebook cells\n",
       "var notebookContainer = gd.closest('#notebook-container');\n",
       "if (notebookContainer) {{\n",
       "    x.observe(notebookContainer, {childList: true});\n",
       "}}\n",
       "\n",
       "// Listen for the clearing of the current output cell\n",
       "var outputEl = gd.closest('.output');\n",
       "if (outputEl) {{\n",
       "    x.observe(outputEl, {childList: true});\n",
       "}}\n",
       "\n",
       "                        })                };                });            </script>        </div>"
      ]
     },
     "metadata": {},
     "output_type": "display_data"
    }
   ],
   "source": [
    "# Group by bowling team and count the number of wickets\n",
    "wickets_by_teams = df.groupby('bowling_team')['wicket_type'].count().reset_index()\n",
    "\n",
    "# Create Plotly bar plot\n",
    "fig = px.bar(wickets_by_teams, x='bowling_team', y='wicket_type',\n",
    "             labels={'bowling_team': 'Teams', 'wicket_type': 'Number of Wickets'},\n",
    "             color='bowling_team',  # Color bars by bowling team\n",
    "             color_discrete_sequence=['darkgreen']  # Setting color to dark green\n",
    "             )\n",
    "\n",
    "# Customize layout for better readability\n",
    "fig.update_layout(\n",
    "    xaxis_title='Teams',\n",
    "    yaxis_title='Number of Wickets',\n",
    "    height=600,  # Adjust height as needed\n",
    "    plot_bgcolor='white',  # Set plot background color to white\n",
    "    xaxis={'categoryorder': 'total descending'},  # Sort teams by total wickets\n",
    ")\n",
    "\n",
    "# Rotate x-axis labels for better readability\n",
    "fig.update_xaxes(tickangle=-45)\n",
    "\n",
    "# Show the plot\n",
    "fig.show()\n"
   ]
  },
  {
   "cell_type": "markdown",
   "id": "72662482",
   "metadata": {
    "papermill": {
     "duration": 0.011778,
     "end_time": "2024-06-22T05:13:10.020443",
     "exception": false,
     "start_time": "2024-06-22T05:13:10.008665",
     "status": "completed"
    },
    "tags": []
   },
   "source": [
    "### **Total Wickets Taken by Each Bowling Multan Sultans🔍**"
   ]
  },
  {
   "cell_type": "markdown",
   "id": "79578cde",
   "metadata": {
    "papermill": {
     "duration": 0.011547,
     "end_time": "2024-06-22T05:13:10.044011",
     "exception": false,
     "start_time": "2024-06-22T05:13:10.032464",
     "status": "completed"
    },
    "tags": []
   },
   "source": [
    "## **Exploratory Data Analysis (EDA):**\n",
    "\n",
    "**Runs Analysis**: Visualize the top runs scoring teams and individual batsmen using interactive bar plots from Plotly.\n",
    "**Wickets Analysis**: Identify bowlers with the most wickets and visualize wickets taken by bowling teams using Plotly."
   ]
  },
  {
   "cell_type": "markdown",
   "id": "df096f24",
   "metadata": {
    "papermill": {
     "duration": 0.01166,
     "end_time": "2024-06-22T05:13:10.067602",
     "exception": false,
     "start_time": "2024-06-22T05:13:10.055942",
     "status": "completed"
    },
    "tags": []
   },
   "source": [
    "**Insights and Visualizations:**\n",
    "\n",
    "I highlight insights such as Multan Sultans scoring the most runs and Usman Mir taking the most wickets, supported by engaging Plotly visualizations."
   ]
  },
  {
   "cell_type": "markdown",
   "id": "24425f40",
   "metadata": {
    "papermill": {
     "duration": 0.011617,
     "end_time": "2024-06-22T05:13:10.090999",
     "exception": false,
     "start_time": "2024-06-22T05:13:10.079382",
     "status": "completed"
    },
    "tags": []
   },
   "source": [
    "<div style=\"border-radius: 20px; border: 2px solid #64B5F6; padding: 15px; background-color: #1B5E20; color: white; text-align: center; box-shadow: 0px 4px 8px rgba(0, 0, 0, 0.4), 0px 6px 20px rgba(0, 0, 0, 0.19); transform: perspective(1000px) rotateX(5deg) rotateY(-5deg); transition: transform 0.5s ease-in-out;\">\n",
    "    <h1 style=\"color: white; text-shadow: 2px 2px 4px rgba(0, 0, 0, 0.4); font-weight: bold; margin-bottom: 10px; font-size: 32px;\">\n",
    "        I appreciate your help with this notebook\n",
    "    </h1>\n",
    "    <h2 style=\"color: white; text-shadow: 1px 1px 2px rgba(0, 0, 0, 0.3); font-weight: normal; margin-bottom: 10px; font-size: 24px;\">\n",
    "       📓 Your feedback will be important as I try more advanced techniques.🚀\n",
    "    </h2>\n",
    "    <h2 style=\"color: white; text-shadow: 1px 1px 2px rgba(0, 0, 0, 0.3); font-weight: normal; margin-bottom: 10px; font-size: 24px;\">\n",
    "        Suggestions are always welcome!\n",
    "    </h2>\n",
    "    <h2 style=\"color: white; text-shadow: 1px 1px 2px rgba(0, 0, 0, 0.3); font-weight: normal; font-size: 24px;\">\n",
    "        Let's keep pushing forward together!\n",
    "    </h2>\n",
    "</div>\n"
   ]
  }
 ],
 "metadata": {
  "kaggle": {
   "accelerator": "none",
   "dataSources": [
    {
     "datasetId": 5023028,
     "sourceId": 8433761,
     "sourceType": "datasetVersion"
    }
   ],
   "dockerImageVersionId": 30732,
   "isGpuEnabled": false,
   "isInternetEnabled": true,
   "language": "python",
   "sourceType": "notebook"
  },
  "kernelspec": {
   "display_name": "Python 3",
   "language": "python",
   "name": "python3"
  },
  "language_info": {
   "codemirror_mode": {
    "name": "ipython",
    "version": 3
   },
   "file_extension": ".py",
   "mimetype": "text/x-python",
   "name": "python",
   "nbconvert_exporter": "python",
   "pygments_lexer": "ipython3",
   "version": "3.10.13"
  },
  "papermill": {
   "default_parameters": {},
   "duration": 9.566612,
   "end_time": "2024-06-22T05:13:10.825324",
   "environment_variables": {},
   "exception": null,
   "input_path": "__notebook__.ipynb",
   "output_path": "__notebook__.ipynb",
   "parameters": {},
   "start_time": "2024-06-22T05:13:01.258712",
   "version": "2.5.0"
  }
 },
 "nbformat": 4,
 "nbformat_minor": 5
}
